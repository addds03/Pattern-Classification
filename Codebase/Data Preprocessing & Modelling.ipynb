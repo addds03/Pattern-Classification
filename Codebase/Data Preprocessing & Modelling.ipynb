{
 "cells": [
  {
   "cell_type": "code",
   "execution_count": 1,
   "metadata": {},
   "outputs": [],
   "source": [
    "import pandas as pd\n",
    "import numpy as np\n",
    "import seaborn as sns\n",
    "import matplotlib.pyplot as plt"
   ]
  },
  {
   "cell_type": "code",
   "execution_count": 2,
   "metadata": {},
   "outputs": [],
   "source": [
    "df_train = pd.read_csv('../Data/csv_result-Descriptors_Training.csv', index_col='id')"
   ]
  },
  {
   "cell_type": "code",
   "execution_count": 3,
   "metadata": {},
   "outputs": [],
   "source": [
    "df_valid = pd.read_csv('../Data/csv_result-Descriptors_Calibration.csv', index_col='id')"
   ]
  },
  {
   "cell_type": "code",
   "execution_count": 4,
   "metadata": {},
   "outputs": [
    {
     "data": {
      "text/html": [
       "<div>\n",
       "<style scoped>\n",
       "    .dataframe tbody tr th:only-of-type {\n",
       "        vertical-align: middle;\n",
       "    }\n",
       "\n",
       "    .dataframe tbody tr th {\n",
       "        vertical-align: top;\n",
       "    }\n",
       "\n",
       "    .dataframe thead th {\n",
       "        text-align: right;\n",
       "    }\n",
       "</style>\n",
       "<table border=\"1\" class=\"dataframe\">\n",
       "  <thead>\n",
       "    <tr style=\"text-align: right;\">\n",
       "      <th></th>\n",
       "      <th>IP_ES_25_N1</th>\n",
       "      <th>Z3_IB_4_N1</th>\n",
       "      <th>Z1_IB_10_N1</th>\n",
       "      <th>Z1_IB_5_N1</th>\n",
       "      <th>Z3_IB_8_N1</th>\n",
       "      <th>ECI_IB_4_N1</th>\n",
       "      <th>ECI_IB_5_N1</th>\n",
       "      <th>Gs(U)_IB_12_N1</th>\n",
       "      <th>Gs(U)_IB_68_N1</th>\n",
       "      <th>Gs(U)_IB_58_N1</th>\n",
       "      <th>...</th>\n",
       "      <th>Z3_NO_UCR_S</th>\n",
       "      <th>Z3_NO_UCR_N1</th>\n",
       "      <th>ECI_NO_UCR_CV</th>\n",
       "      <th>Pa_NO_BSR_SI71</th>\n",
       "      <th>ISA_NO_NPR_S</th>\n",
       "      <th>Z3_NO_NPR_V</th>\n",
       "      <th>IP_NO_PLR_S</th>\n",
       "      <th>Pb_NO_PCR_V</th>\n",
       "      <th>ECI_NO_PCR_CV</th>\n",
       "      <th>class</th>\n",
       "    </tr>\n",
       "    <tr>\n",
       "      <th>id</th>\n",
       "      <th></th>\n",
       "      <th></th>\n",
       "      <th></th>\n",
       "      <th></th>\n",
       "      <th></th>\n",
       "      <th></th>\n",
       "      <th></th>\n",
       "      <th></th>\n",
       "      <th></th>\n",
       "      <th></th>\n",
       "      <th></th>\n",
       "      <th></th>\n",
       "      <th></th>\n",
       "      <th></th>\n",
       "      <th></th>\n",
       "      <th></th>\n",
       "      <th></th>\n",
       "      <th></th>\n",
       "      <th></th>\n",
       "      <th></th>\n",
       "      <th></th>\n",
       "    </tr>\n",
       "  </thead>\n",
       "  <tbody>\n",
       "    <tr>\n",
       "      <th>1</th>\n",
       "      <td>5.59</td>\n",
       "      <td>14.91</td>\n",
       "      <td>13.69</td>\n",
       "      <td>6.45</td>\n",
       "      <td>12.11</td>\n",
       "      <td>28.79</td>\n",
       "      <td>32.4</td>\n",
       "      <td>0.06</td>\n",
       "      <td>0.09</td>\n",
       "      <td>0.04</td>\n",
       "      <td>...</td>\n",
       "      <td>0.69</td>\n",
       "      <td>23.12</td>\n",
       "      <td>0.64</td>\n",
       "      <td>0.76</td>\n",
       "      <td>-0.79</td>\n",
       "      <td>0.68</td>\n",
       "      <td>0.54</td>\n",
       "      <td>0.02</td>\n",
       "      <td>0.59</td>\n",
       "      <td>P</td>\n",
       "    </tr>\n",
       "  </tbody>\n",
       "</table>\n",
       "<p>1 rows × 29 columns</p>\n",
       "</div>"
      ],
      "text/plain": [
       "    IP_ES_25_N1  Z3_IB_4_N1  Z1_IB_10_N1  Z1_IB_5_N1  Z3_IB_8_N1  ECI_IB_4_N1  \\\n",
       "id                                                                              \n",
       "1          5.59       14.91        13.69        6.45       12.11        28.79   \n",
       "\n",
       "    ECI_IB_5_N1  Gs(U)_IB_12_N1  Gs(U)_IB_68_N1  Gs(U)_IB_58_N1  ...  \\\n",
       "id                                                               ...   \n",
       "1          32.4            0.06            0.09            0.04  ...   \n",
       "\n",
       "    Z3_NO_UCR_S  Z3_NO_UCR_N1  ECI_NO_UCR_CV  Pa_NO_BSR_SI71  ISA_NO_NPR_S  \\\n",
       "id                                                                           \n",
       "1          0.69         23.12           0.64            0.76         -0.79   \n",
       "\n",
       "    Z3_NO_NPR_V  IP_NO_PLR_S  Pb_NO_PCR_V  ECI_NO_PCR_CV  class  \n",
       "id                                                               \n",
       "1          0.68         0.54         0.02           0.59      P  \n",
       "\n",
       "[1 rows x 29 columns]"
      ]
     },
     "execution_count": 4,
     "metadata": {},
     "output_type": "execute_result"
    }
   ],
   "source": [
    "df_train.head(1)"
   ]
  },
  {
   "cell_type": "code",
   "execution_count": 5,
   "metadata": {},
   "outputs": [],
   "source": [
    "predictors = df_train.drop(columns='class').columns\n",
    "\n",
    "input_df = df_train[predictors]"
   ]
  },
  {
   "cell_type": "markdown",
   "metadata": {},
   "source": [
    "#### Using Isolation forests to predict outliers"
   ]
  },
  {
   "cell_type": "code",
   "execution_count": 6,
   "metadata": {},
   "outputs": [],
   "source": [
    "from sklearn.ensemble import IsolationForest\n",
    "\n",
    "def detectOutliers(df, full_df, col_name='outliers'):\n",
    "    \n",
    "    clf = IsolationForest(n_estimators=100, max_samples='auto', contamination=float(.12), \n",
    "                      max_features=1.0, bootstrap=False, n_jobs=-1, random_state=42, verbose=0)\n",
    "\n",
    "    pred = clf.fit_predict(df)\n",
    "\n",
    "    dummy_df = pd.concat(\n",
    "        [\n",
    "            full_df.reset_index(drop=True),\n",
    "            pd.Series(pred, name=col_name)\n",
    "        ], \n",
    "        axis=1)\n",
    "    \n",
    "    return dummy_df"
   ]
  },
  {
   "cell_type": "code",
   "execution_count": 7,
   "metadata": {},
   "outputs": [],
   "source": [
    "dfw_outliers = detectOutliers(input_df, df_train)"
   ]
  },
  {
   "cell_type": "code",
   "execution_count": 8,
   "metadata": {},
   "outputs": [],
   "source": [
    "#outlier_index = dfw_outliers[dfw_outliers['outliers'] == -1].index"
   ]
  },
  {
   "cell_type": "code",
   "execution_count": 9,
   "metadata": {},
   "outputs": [
    {
     "data": {
      "text/html": [
       "<div>\n",
       "<style scoped>\n",
       "    .dataframe tbody tr th:only-of-type {\n",
       "        vertical-align: middle;\n",
       "    }\n",
       "\n",
       "    .dataframe tbody tr th {\n",
       "        vertical-align: top;\n",
       "    }\n",
       "\n",
       "    .dataframe thead th {\n",
       "        text-align: right;\n",
       "    }\n",
       "</style>\n",
       "<table border=\"1\" class=\"dataframe\">\n",
       "  <thead>\n",
       "    <tr style=\"text-align: right;\">\n",
       "      <th></th>\n",
       "      <th>IP_ES_25_N1</th>\n",
       "      <th>Z3_IB_4_N1</th>\n",
       "      <th>Z1_IB_10_N1</th>\n",
       "      <th>Z1_IB_5_N1</th>\n",
       "      <th>Z3_IB_8_N1</th>\n",
       "      <th>ECI_IB_4_N1</th>\n",
       "      <th>ECI_IB_5_N1</th>\n",
       "      <th>Gs(U)_IB_12_N1</th>\n",
       "      <th>Gs(U)_IB_68_N1</th>\n",
       "      <th>Gs(U)_IB_58_N1</th>\n",
       "      <th>...</th>\n",
       "      <th>Z3_NO_UCR_N1</th>\n",
       "      <th>ECI_NO_UCR_CV</th>\n",
       "      <th>Pa_NO_BSR_SI71</th>\n",
       "      <th>ISA_NO_NPR_S</th>\n",
       "      <th>Z3_NO_NPR_V</th>\n",
       "      <th>IP_NO_PLR_S</th>\n",
       "      <th>Pb_NO_PCR_V</th>\n",
       "      <th>ECI_NO_PCR_CV</th>\n",
       "      <th>class</th>\n",
       "      <th>outliers</th>\n",
       "    </tr>\n",
       "  </thead>\n",
       "  <tbody>\n",
       "    <tr>\n",
       "      <th>0</th>\n",
       "      <td>5.59</td>\n",
       "      <td>14.91</td>\n",
       "      <td>13.69</td>\n",
       "      <td>6.45</td>\n",
       "      <td>12.11</td>\n",
       "      <td>28.79</td>\n",
       "      <td>32.40</td>\n",
       "      <td>0.06</td>\n",
       "      <td>0.09</td>\n",
       "      <td>0.04</td>\n",
       "      <td>...</td>\n",
       "      <td>23.12</td>\n",
       "      <td>0.64</td>\n",
       "      <td>0.76</td>\n",
       "      <td>-0.79</td>\n",
       "      <td>0.68</td>\n",
       "      <td>0.54</td>\n",
       "      <td>0.02</td>\n",
       "      <td>0.59</td>\n",
       "      <td>P</td>\n",
       "      <td>1</td>\n",
       "    </tr>\n",
       "    <tr>\n",
       "      <th>1</th>\n",
       "      <td>4.81</td>\n",
       "      <td>16.87</td>\n",
       "      <td>6.58</td>\n",
       "      <td>11.59</td>\n",
       "      <td>17.25</td>\n",
       "      <td>40.40</td>\n",
       "      <td>56.59</td>\n",
       "      <td>0.04</td>\n",
       "      <td>0.06</td>\n",
       "      <td>0.05</td>\n",
       "      <td>...</td>\n",
       "      <td>2.34</td>\n",
       "      <td>0.52</td>\n",
       "      <td>0.49</td>\n",
       "      <td>-1.27</td>\n",
       "      <td>1.39</td>\n",
       "      <td>-0.11</td>\n",
       "      <td>0.02</td>\n",
       "      <td>0.62</td>\n",
       "      <td>P</td>\n",
       "      <td>1</td>\n",
       "    </tr>\n",
       "    <tr>\n",
       "      <th>2</th>\n",
       "      <td>5.36</td>\n",
       "      <td>13.81</td>\n",
       "      <td>8.25</td>\n",
       "      <td>8.77</td>\n",
       "      <td>14.82</td>\n",
       "      <td>32.42</td>\n",
       "      <td>61.74</td>\n",
       "      <td>0.03</td>\n",
       "      <td>0.06</td>\n",
       "      <td>0.07</td>\n",
       "      <td>...</td>\n",
       "      <td>-2.24</td>\n",
       "      <td>0.37</td>\n",
       "      <td>0.47</td>\n",
       "      <td>-0.74</td>\n",
       "      <td>2.03</td>\n",
       "      <td>0.58</td>\n",
       "      <td>0.01</td>\n",
       "      <td>0.56</td>\n",
       "      <td>P</td>\n",
       "      <td>1</td>\n",
       "    </tr>\n",
       "    <tr>\n",
       "      <th>3</th>\n",
       "      <td>6.10</td>\n",
       "      <td>73.66</td>\n",
       "      <td>6.41</td>\n",
       "      <td>11.14</td>\n",
       "      <td>37.36</td>\n",
       "      <td>38.26</td>\n",
       "      <td>55.93</td>\n",
       "      <td>0.04</td>\n",
       "      <td>0.19</td>\n",
       "      <td>0.06</td>\n",
       "      <td>...</td>\n",
       "      <td>2.44</td>\n",
       "      <td>0.40</td>\n",
       "      <td>0.44</td>\n",
       "      <td>-0.28</td>\n",
       "      <td>0.43</td>\n",
       "      <td>0.77</td>\n",
       "      <td>0.02</td>\n",
       "      <td>0.65</td>\n",
       "      <td>P</td>\n",
       "      <td>1</td>\n",
       "    </tr>\n",
       "    <tr>\n",
       "      <th>4</th>\n",
       "      <td>-2.00</td>\n",
       "      <td>16.41</td>\n",
       "      <td>8.51</td>\n",
       "      <td>7.07</td>\n",
       "      <td>30.95</td>\n",
       "      <td>50.22</td>\n",
       "      <td>39.52</td>\n",
       "      <td>0.05</td>\n",
       "      <td>0.05</td>\n",
       "      <td>0.04</td>\n",
       "      <td>...</td>\n",
       "      <td>7.72</td>\n",
       "      <td>0.42</td>\n",
       "      <td>0.50</td>\n",
       "      <td>-1.12</td>\n",
       "      <td>0.91</td>\n",
       "      <td>0.71</td>\n",
       "      <td>0.01</td>\n",
       "      <td>0.65</td>\n",
       "      <td>P</td>\n",
       "      <td>1</td>\n",
       "    </tr>\n",
       "  </tbody>\n",
       "</table>\n",
       "<p>5 rows × 30 columns</p>\n",
       "</div>"
      ],
      "text/plain": [
       "   IP_ES_25_N1  Z3_IB_4_N1  Z1_IB_10_N1  Z1_IB_5_N1  Z3_IB_8_N1  ECI_IB_4_N1  \\\n",
       "0         5.59       14.91        13.69        6.45       12.11        28.79   \n",
       "1         4.81       16.87         6.58       11.59       17.25        40.40   \n",
       "2         5.36       13.81         8.25        8.77       14.82        32.42   \n",
       "3         6.10       73.66         6.41       11.14       37.36        38.26   \n",
       "4        -2.00       16.41         8.51        7.07       30.95        50.22   \n",
       "\n",
       "   ECI_IB_5_N1  Gs(U)_IB_12_N1  Gs(U)_IB_68_N1  Gs(U)_IB_58_N1  ...  \\\n",
       "0        32.40            0.06            0.09            0.04  ...   \n",
       "1        56.59            0.04            0.06            0.05  ...   \n",
       "2        61.74            0.03            0.06            0.07  ...   \n",
       "3        55.93            0.04            0.19            0.06  ...   \n",
       "4        39.52            0.05            0.05            0.04  ...   \n",
       "\n",
       "   Z3_NO_UCR_N1  ECI_NO_UCR_CV  Pa_NO_BSR_SI71  ISA_NO_NPR_S  Z3_NO_NPR_V  \\\n",
       "0         23.12           0.64            0.76         -0.79         0.68   \n",
       "1          2.34           0.52            0.49         -1.27         1.39   \n",
       "2         -2.24           0.37            0.47         -0.74         2.03   \n",
       "3          2.44           0.40            0.44         -0.28         0.43   \n",
       "4          7.72           0.42            0.50         -1.12         0.91   \n",
       "\n",
       "   IP_NO_PLR_S  Pb_NO_PCR_V  ECI_NO_PCR_CV  class  outliers  \n",
       "0         0.54         0.02           0.59      P         1  \n",
       "1        -0.11         0.02           0.62      P         1  \n",
       "2         0.58         0.01           0.56      P         1  \n",
       "3         0.77         0.02           0.65      P         1  \n",
       "4         0.71         0.01           0.65      P         1  \n",
       "\n",
       "[5 rows x 30 columns]"
      ]
     },
     "execution_count": 9,
     "metadata": {},
     "output_type": "execute_result"
    }
   ],
   "source": [
    "dfw_outliers.head()"
   ]
  },
  {
   "cell_type": "code",
   "execution_count": 10,
   "metadata": {},
   "outputs": [
    {
     "data": {
      "text/plain": [
       "outliers  class\n",
       " 1        N        16661\n",
       "-1        N         2200\n",
       " 1        P          928\n",
       "-1        P          199\n",
       "dtype: int64"
      ]
     },
     "execution_count": 10,
     "metadata": {},
     "output_type": "execute_result"
    },
    {
     "data": {
      "image/png": "[encoded data removed]",
      "text/plain": [
       "<Figure size 406x360 with 1 Axes>"
      ]
     },
     "metadata": {
      "needs_background": "light"
     },
     "output_type": "display_data"
    }
   ],
   "source": [
    "sns.displot(x='class',hue='outliers',data=dfw_outliers)\n",
    "dfw_outliers[['outliers','class']].value_counts()"
   ]
  },
  {
   "cell_type": "raw",
   "metadata": {},
   "source": [
    "from sklearn.decomposition import PCA\n",
    "from sklearn.preprocessing import StandardScaler\n",
    "from mpl_toolkits.mplot3d import Axes3D"
   ]
  },
  {
   "cell_type": "raw",
   "metadata": {},
   "source": [
    "outliers = df_train.loc[df_train['outliers'] == -1]\n",
    "outlier_index = outliers.index\n",
    "\n",
    "pca = PCA(n_components=3)  # Reduce to k=3 dimensions\n",
    "#scaler = StandardScaler()\n",
    "#normalize the metrics\n",
    "#X = scaler.fit_transform(df_train[predictors])\n",
    "X_reduce = pca.fit_transform(df_train[predictors])\n",
    "fig = plt.figure(figsize=(15,15))\n",
    "ax = fig.add_subplot(111, projection='3d')\n",
    "ax.set_zlabel(\"x_composite_3\")\n",
    "\n",
    "print(X_reduce[19987])\n",
    "# Plot the compressed data points\n",
    "ax.scatter(X_reduce[:, 0], X_reduce[:, 1], zs=X_reduce[:, 2], s=4, lw=1, label=\"inliers\",c=\"green\")\n",
    "# Plot x's for the ground truth outliers\n",
    "ax.scatter(X_reduce[outlier_index-1,0],X_reduce[outlier_index-1,1], X_reduce[outlier_index-1,2],lw=2, s=60, marker=\"x\", c=\"red\", label=\"outliers\")\n",
    "#ax.legend()\n",
    "#plt.show()"
   ]
  },
  {
   "cell_type": "markdown",
   "metadata": {},
   "source": [
    "#### Using Gradient Boosting Classifier With Outliers"
   ]
  },
  {
   "cell_type": "code",
   "execution_count": 11,
   "metadata": {},
   "outputs": [],
   "source": [
    "from sklearn.ensemble import GradientBoostingClassifier\n",
    "from sklearn.metrics import confusion_matrix, precision_score, recall_score, ConfusionMatrixDisplay\n",
    "from sklearn.model_selection import cross_val_score, RepeatedStratifiedKFold"
   ]
  },
  {
   "cell_type": "raw",
   "metadata": {},
   "source": [
    "XGboost = GradientBoostingClassifier()\n",
    "\n",
    "XGboost.fit(input_df,df_train['class'])\n",
    "\n",
    "sorted_feature_importance = sorted(zip(XGboost.feature_importances_, input_df.columns))\n",
    "\n",
    "x = [a[0] for a in sorted_feature_importance]\n",
    "y = [a[1] for a in sorted_feature_importance]\n",
    "\n",
    "sns.set_style('whitegrid')\n",
    "plt.figure(figsize=(10,8))\n",
    "plt.scatter(x[:15],y[:15])\n",
    "plt.title('Feature Importances')\n",
    "plt.show()"
   ]
  },
  {
   "cell_type": "raw",
   "metadata": {},
   "source": [
    "cv = RepeatedStratifiedKFold(n_splits=10, n_repeats=3, random_state=1)\n",
    "\n",
    "n_scores = cross_val_score(model, input_df, df_train['class'], scoring='accuracy', cv=cv, n_jobs=-1)\n",
    "\n",
    "print('Mean Accuracy: %.3f (%.3f)' % (np.mean(n_scores), np.std(n_scores)))"
   ]
  },
  {
   "cell_type": "code",
   "execution_count": 12,
   "metadata": {},
   "outputs": [],
   "source": [
    "model = GradientBoostingClassifier()\n",
    "\n",
    "model.fit(input_df, df_train['class'])\n",
    "\n",
    "pred = model.predict(df_valid[predictors])"
   ]
  },
  {
   "cell_type": "code",
   "execution_count": 13,
   "metadata": {},
   "outputs": [
    {
     "name": "stdout",
     "output_type": "stream",
     "text": [
      "Precision: [0.94392149 0.33333333]\n",
      "Recall: [0.99957582 0.00355872]\n"
     ]
    },
    {
     "data": {
      "image/png": "[encoded data removed]",
      "text/plain": [
       "<Figure size 432x288 with 2 Axes>"
      ]
     },
     "metadata": {
      "needs_background": "light"
     },
     "output_type": "display_data"
    }
   ],
   "source": [
    "y_val = df_valid['class'].values\n",
    "cm = confusion_matrix(df_valid['class'], pred)\n",
    "\n",
    "print(f'Precision: {precision_score(y_val, pred,average=None)}')\n",
    "print(f'Recall: {recall_score(y_val, pred,average=None)}')\n",
    "\n",
    "disp = ConfusionMatrixDisplay(confusion_matrix=cm,\n",
    "                              display_labels=['N','P'])\n",
    "disp = disp.plot(include_values=True)\n",
    "\n",
    "plt.show()"
   ]
  },
  {
   "cell_type": "code",
   "execution_count": 14,
   "metadata": {},
   "outputs": [
    {
     "data": {
      "text/plain": [
       "N    4715\n",
       "P     281\n",
       "Name: class, dtype: int64"
      ]
     },
     "execution_count": 14,
     "metadata": {},
     "output_type": "execute_result"
    }
   ],
   "source": [
    "df_valid['class'].value_counts()"
   ]
  },
  {
   "cell_type": "markdown",
   "metadata": {},
   "source": [
    "#### Using Gradient Boosting Classifier without Outliers"
   ]
  },
  {
   "cell_type": "code",
   "execution_count": 15,
   "metadata": {},
   "outputs": [
    {
     "data": {
      "text/plain": [
       "GradientBoostingClassifier()"
      ]
     },
     "execution_count": 15,
     "metadata": {},
     "output_type": "execute_result"
    }
   ],
   "source": [
    "df_no_outliers = dfw_outliers[dfw_outliers['outliers'] == 1]\n",
    "\n",
    "ip_dfwo_out = df_no_outliers[predictors]\n",
    "\n",
    "model_2 = GradientBoostingClassifier()\n",
    "\n",
    "model_2.fit(ip_dfwo_out, df_no_outliers['class'])"
   ]
  },
  {
   "cell_type": "markdown",
   "metadata": {},
   "source": [
    "Pre-process Data"
   ]
  },
  {
   "cell_type": "code",
   "execution_count": 16,
   "metadata": {},
   "outputs": [],
   "source": [
    "df_valid = detectOutliers(df_valid[predictors], df_valid)"
   ]
  },
  {
   "cell_type": "code",
   "execution_count": 17,
   "metadata": {},
   "outputs": [],
   "source": [
    "df_valid_wo_outliers = df_valid[df_valid['outliers'] == 1]"
   ]
  },
  {
   "cell_type": "code",
   "execution_count": 18,
   "metadata": {},
   "outputs": [
    {
     "data": {
      "text/html": [
       "<div>\n",
       "<style scoped>\n",
       "    .dataframe tbody tr th:only-of-type {\n",
       "        vertical-align: middle;\n",
       "    }\n",
       "\n",
       "    .dataframe tbody tr th {\n",
       "        vertical-align: top;\n",
       "    }\n",
       "\n",
       "    .dataframe thead th {\n",
       "        text-align: right;\n",
       "    }\n",
       "</style>\n",
       "<table border=\"1\" class=\"dataframe\">\n",
       "  <thead>\n",
       "    <tr style=\"text-align: right;\">\n",
       "      <th></th>\n",
       "      <th>IP_ES_25_N1</th>\n",
       "      <th>Z3_IB_4_N1</th>\n",
       "      <th>Z1_IB_10_N1</th>\n",
       "      <th>Z1_IB_5_N1</th>\n",
       "      <th>Z3_IB_8_N1</th>\n",
       "      <th>ECI_IB_4_N1</th>\n",
       "      <th>ECI_IB_5_N1</th>\n",
       "      <th>Gs(U)_IB_12_N1</th>\n",
       "      <th>Gs(U)_IB_68_N1</th>\n",
       "      <th>Gs(U)_IB_58_N1</th>\n",
       "      <th>...</th>\n",
       "      <th>Z3_NO_UCR_N1</th>\n",
       "      <th>ECI_NO_UCR_CV</th>\n",
       "      <th>Pa_NO_BSR_SI71</th>\n",
       "      <th>ISA_NO_NPR_S</th>\n",
       "      <th>Z3_NO_NPR_V</th>\n",
       "      <th>IP_NO_PLR_S</th>\n",
       "      <th>Pb_NO_PCR_V</th>\n",
       "      <th>ECI_NO_PCR_CV</th>\n",
       "      <th>class</th>\n",
       "      <th>outliers</th>\n",
       "    </tr>\n",
       "  </thead>\n",
       "  <tbody>\n",
       "    <tr>\n",
       "      <th>0</th>\n",
       "      <td>15.35</td>\n",
       "      <td>13.06</td>\n",
       "      <td>9.08</td>\n",
       "      <td>7.15</td>\n",
       "      <td>18.86</td>\n",
       "      <td>34.99</td>\n",
       "      <td>38.64</td>\n",
       "      <td>0.03</td>\n",
       "      <td>0.05</td>\n",
       "      <td>0.04</td>\n",
       "      <td>...</td>\n",
       "      <td>-3.41</td>\n",
       "      <td>0.33</td>\n",
       "      <td>0.6</td>\n",
       "      <td>-1.59</td>\n",
       "      <td>0.7</td>\n",
       "      <td>0.33</td>\n",
       "      <td>0.02</td>\n",
       "      <td>0.62</td>\n",
       "      <td>P</td>\n",
       "      <td>1</td>\n",
       "    </tr>\n",
       "  </tbody>\n",
       "</table>\n",
       "<p>1 rows × 30 columns</p>\n",
       "</div>"
      ],
      "text/plain": [
       "   IP_ES_25_N1  Z3_IB_4_N1  Z1_IB_10_N1  Z1_IB_5_N1  Z3_IB_8_N1  ECI_IB_4_N1  \\\n",
       "0        15.35       13.06         9.08        7.15       18.86        34.99   \n",
       "\n",
       "   ECI_IB_5_N1  Gs(U)_IB_12_N1  Gs(U)_IB_68_N1  Gs(U)_IB_58_N1  ...  \\\n",
       "0        38.64            0.03            0.05            0.04  ...   \n",
       "\n",
       "   Z3_NO_UCR_N1  ECI_NO_UCR_CV  Pa_NO_BSR_SI71  ISA_NO_NPR_S  Z3_NO_NPR_V  \\\n",
       "0         -3.41           0.33             0.6         -1.59          0.7   \n",
       "\n",
       "   IP_NO_PLR_S  Pb_NO_PCR_V  ECI_NO_PCR_CV  class  outliers  \n",
       "0         0.33         0.02           0.62      P         1  \n",
       "\n",
       "[1 rows x 30 columns]"
      ]
     },
     "execution_count": 18,
     "metadata": {},
     "output_type": "execute_result"
    }
   ],
   "source": [
    "df_valid_wo_outliers.head(1)"
   ]
  },
  {
   "cell_type": "markdown",
   "metadata": {},
   "source": [
    "Predictions - Model "
   ]
  },
  {
   "cell_type": "code",
   "execution_count": 19,
   "metadata": {},
   "outputs": [],
   "source": [
    "pred = model_2.predict(df_valid_wo_outliers[predictors])"
   ]
  },
  {
   "cell_type": "code",
   "execution_count": 20,
   "metadata": {},
   "outputs": [
    {
     "name": "stdout",
     "output_type": "stream",
     "text": [
      "Precision: [0.94919116 0.        ]\n",
      "Recall: [0.99832255 0.        ]\n"
     ]
    },
    {
     "data": {
      "image/png": "[encoded data removed]",
      "text/plain": [
       "<Figure size 432x288 with 2 Axes>"
      ]
     },
     "metadata": {
      "needs_background": "light"
     },
     "output_type": "display_data"
    }
   ],
   "source": [
    "y_val = df_valid_wo_outliers['class'].values\n",
    "\n",
    "cm = confusion_matrix(y_val, pred)\n",
    "\n",
    "print(f'Precision: {precision_score(y_val, pred,average=None)}')\n",
    "\n",
    "print(f'Recall: {recall_score(y_val, pred,average=None)}')\n",
    "\n",
    "\n",
    "disp = ConfusionMatrixDisplay(confusion_matrix=cm,\n",
    "                              display_labels=['N','P'])\n",
    "disp = disp.plot(include_values=True)\n",
    "\n",
    "plt.show()"
   ]
  },
  {
   "cell_type": "code",
   "execution_count": 21,
   "metadata": {},
   "outputs": [
    {
     "data": {
      "text/plain": [
       "N    4173\n",
       "P     223\n",
       "Name: class, dtype: int64"
      ]
     },
     "execution_count": 21,
     "metadata": {},
     "output_type": "execute_result"
    }
   ],
   "source": [
    "df_valid_wo_outliers['class'].value_counts()"
   ]
  },
  {
   "cell_type": "markdown",
   "metadata": {},
   "source": [
    "#### Create a pipeline for - Normalizing Data, Prediction Model"
   ]
  },
  {
   "cell_type": "code",
   "execution_count": 22,
   "metadata": {},
   "outputs": [],
   "source": [
    "from sklearn.pipeline import make_pipeline\n",
    "from sklearn.preprocessing import StandardScaler"
   ]
  },
  {
   "cell_type": "code",
   "execution_count": 23,
   "metadata": {},
   "outputs": [],
   "source": [
    "pipe = make_pipeline(StandardScaler(), GradientBoostingClassifier())\n",
    "\n",
    "pipe.fit(input_df, df_train['class'])\n",
    "\n",
    "prep_pred = pipe.predict(df_valid[predictors])"
   ]
  },
  {
   "cell_type": "code",
   "execution_count": 24,
   "metadata": {},
   "outputs": [
    {
     "name": "stdout",
     "output_type": "stream",
     "text": [
      "Precision: [0.94405454 0.22222222]\n",
      "Recall: [0.99851538 0.00711744]\n"
     ]
    },
    {
     "data": {
      "image/png": "[encoded data removed]",
      "text/plain": [
       "<Figure size 432x288 with 2 Axes>"
      ]
     },
     "metadata": {
      "needs_background": "light"
     },
     "output_type": "display_data"
    }
   ],
   "source": [
    "y_val = df_valid['class'].values\n",
    "\n",
    "cm = confusion_matrix(y_val, prep_pred)\n",
    "\n",
    "print(f'Precision: {precision_score(y_val, prep_pred,average=None)}')\n",
    "\n",
    "print(f'Recall: {recall_score(y_val, prep_pred,average=None)}')\n",
    "\n",
    "\n",
    "disp = ConfusionMatrixDisplay(confusion_matrix=cm,\n",
    "                              display_labels=['N','P'])\n",
    "disp = disp.plot(include_values=True)\n",
    "\n",
    "plt.show()"
   ]
  },
  {
   "cell_type": "markdown",
   "metadata": {},
   "source": [
    "#### Create a pipeline for without outliers - Normalizing Data, Prediction Model"
   ]
  },
  {
   "cell_type": "code",
   "execution_count": 25,
   "metadata": {},
   "outputs": [],
   "source": [
    "pipe_wo = make_pipeline(StandardScaler(), GradientBoostingClassifier())\n",
    "\n",
    "pipe_wo.fit(ip_dfwo_out, df_no_outliers['class'])\n",
    "\n",
    "prepwo_pred = pipe_wo.predict(df_valid_wo_outliers[predictors])"
   ]
  },
  {
   "cell_type": "code",
   "execution_count": 26,
   "metadata": {},
   "outputs": [
    {
     "name": "stdout",
     "output_type": "stream",
     "text": [
      "Precision: [0.9492143 0.       ]\n",
      "Recall: [0.99880182 0.        ]\n"
     ]
    },
    {
     "data": {
      "image/png": "[encoded data removed]",
      "text/plain": [
       "<Figure size 432x288 with 2 Axes>"
      ]
     },
     "metadata": {
      "needs_background": "light"
     },
     "output_type": "display_data"
    }
   ],
   "source": [
    "y_val = df_valid_wo_outliers['class'].values\n",
    "\n",
    "cm = confusion_matrix(y_val, prepwo_pred)\n",
    "\n",
    "print(f'Precision: {precision_score(y_val, prepwo_pred,average=None)}')\n",
    "\n",
    "print(f'Recall: {recall_score(y_val, prepwo_pred,average=None)}')\n",
    "\n",
    "\n",
    "disp = ConfusionMatrixDisplay(confusion_matrix=cm,\n",
    "                              display_labels=['N','P'])\n",
    "disp = disp.plot(include_values=True)\n",
    "\n",
    "plt.show()"
   ]
  },
  {
   "cell_type": "markdown",
   "metadata": {},
   "source": [
    "Without Outliers we are losing **TP**"
   ]
  },
  {
   "cell_type": "markdown",
   "metadata": {},
   "source": [
    "---\n",
    "#### Using SMOTE for oversampling and random undersampling mix"
   ]
  },
  {
   "cell_type": "code",
   "execution_count": 27,
   "metadata": {},
   "outputs": [],
   "source": [
    "from imblearn.pipeline import Pipeline\n",
    "from imblearn.over_sampling import SMOTE\n",
    "from imblearn.under_sampling import RandomUnderSampler"
   ]
  },
  {
   "cell_type": "code",
   "execution_count": 28,
   "metadata": {},
   "outputs": [],
   "source": [
    "std = StandardScaler()\n",
    "smote_model = GradientBoostingClassifier()\n",
    "over = SMOTE(sampling_strategy=0.1)\n",
    "under = RandomUnderSampler(sampling_strategy=0.5)\n",
    "steps = [('std',std), ('over', over), ('under', under), ('model', smote_model)]\n",
    "pipeline = Pipeline(steps=steps)"
   ]
  },
  {
   "cell_type": "code",
   "execution_count": 29,
   "metadata": {},
   "outputs": [
    {
     "data": {
      "text/plain": [
       "Pipeline(steps=[('std', StandardScaler()),\n",
       "                ('over', SMOTE(sampling_strategy=0.1)),\n",
       "                ('under', RandomUnderSampler(sampling_strategy=0.5)),\n",
       "                ('model', GradientBoostingClassifier())])"
      ]
     },
     "execution_count": 29,
     "metadata": {},
     "output_type": "execute_result"
    }
   ],
   "source": [
    "pipeline.fit(input_df, df_train['class'])"
   ]
  },
  {
   "cell_type": "code",
   "execution_count": 30,
   "metadata": {},
   "outputs": [],
   "source": [
    "smote_pred = pipeline.predict(df_valid[predictors])"
   ]
  },
  {
   "cell_type": "code",
   "execution_count": 31,
   "metadata": {},
   "outputs": [
    {
     "name": "stdout",
     "output_type": "stream",
     "text": [
      "Precision: [0.94743509 0.12355212]\n",
      "Recall: [0.95185578 0.113879  ]\n"
     ]
    },
    {
     "data": {
      "image/png": "[encoded data removed]",
      "text/plain": [
       "<Figure size 432x288 with 2 Axes>"
      ]
     },
     "metadata": {
      "needs_background": "light"
     },
     "output_type": "display_data"
    }
   ],
   "source": [
    "y_val = df_valid['class'].values\n",
    "\n",
    "cm = confusion_matrix(y_val, smote_pred)\n",
    "\n",
    "print(f'Precision: {precision_score(y_val, smote_pred,average=None)}')\n",
    "\n",
    "print(f'Recall: {recall_score(y_val, smote_pred,average=None)}')\n",
    "\n",
    "\n",
    "disp = ConfusionMatrixDisplay(confusion_matrix=cm,\n",
    "                              display_labels=['N','P'])\n",
    "disp = disp.plot(include_values=True)\n",
    "\n",
    "plt.show()"
   ]
  },
  {
   "cell_type": "markdown",
   "metadata": {},
   "source": [
    "*Same as above without outliers*"
   ]
  },
  {
   "cell_type": "code",
   "execution_count": 32,
   "metadata": {},
   "outputs": [
    {
     "name": "stdout",
     "output_type": "stream",
     "text": [
      "Precision: [0.95104895 0.08032129]\n",
      "Recall: [0.94512341 0.0896861 ]\n"
     ]
    },
    {
     "data": {
      "image/png": "[encoded data removed]",
      "text/plain": [
       "<Figure size 432x288 with 2 Axes>"
      ]
     },
     "metadata": {
      "needs_background": "light"
     },
     "output_type": "display_data"
    }
   ],
   "source": [
    "std_wo = StandardScaler()\n",
    "smote_model_wo = GradientBoostingClassifier()\n",
    "over_wo = SMOTE(sampling_strategy=0.1)\n",
    "under_wo = RandomUnderSampler(sampling_strategy=0.5)\n",
    "steps_wo = [('std',std_wo), ('over', over_wo), ('under', under_wo), ('model', smote_model_wo)]\n",
    "pipeline = Pipeline(steps=steps_wo)\n",
    "\n",
    "pipeline.fit(ip_dfwo_out, df_no_outliers['class'])\n",
    "\n",
    "smote_pred_wo = pipeline.predict(df_valid_wo_outliers[predictors])\n",
    "\n",
    "y_val = df_valid_wo_outliers['class'].values\n",
    "\n",
    "cm = confusion_matrix(y_val, smote_pred_wo)\n",
    "\n",
    "print(f'Precision: {precision_score(y_val, smote_pred_wo,average=None)}')\n",
    "\n",
    "print(f'Recall: {recall_score(y_val, smote_pred_wo,average=None)}')\n",
    "\n",
    "\n",
    "disp = ConfusionMatrixDisplay(confusion_matrix=cm,\n",
    "                              display_labels=['N','P'])\n",
    "disp = disp.plot(include_values=True)\n",
    "\n",
    "plt.show()"
   ]
  },
  {
   "cell_type": "code",
   "execution_count": null,
   "metadata": {},
   "outputs": [],
   "source": []
  }
 ],
 "metadata": {
  "kernelspec": {
   "display_name": "Python 3",
   "language": "python",
   "name": "python3"
  },
  "language_info": {
   "codemirror_mode": {
    "name": "ipython",
    "version": 3
   },
   "file_extension": ".py",
   "mimetype": "text/x-python",
   "name": "python",
   "nbconvert_exporter": "python",
   "pygments_lexer": "ipython3",
   "version": "3.8.5"
  }
 },
 "nbformat": 4,
 "nbformat_minor": 4
}
