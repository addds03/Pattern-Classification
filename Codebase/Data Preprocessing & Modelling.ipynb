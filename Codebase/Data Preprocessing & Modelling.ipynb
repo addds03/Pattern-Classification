{
 "cells": [
  {
   "cell_type": "code",
   "execution_count": 1,
   "metadata": {},
   "outputs": [],
   "source": [
    "import pandas as pd\n",
    "import numpy as np\n",
    "import seaborn as sns\n",
    "import matplotlib.pyplot as plt\n",
    "from IPython.display import Audio"
   ]
  },
  {
   "cell_type": "code",
   "execution_count": 2,
   "metadata": {},
   "outputs": [],
   "source": [
    "notify = './sound/beep.wav'"
   ]
  },
  {
   "cell_type": "code",
   "execution_count": 3,
   "metadata": {},
   "outputs": [],
   "source": [
    "pd.options.display.max_seq_items = None\n",
    "pd.options.display.max_rows = None"
   ]
  },
  {
   "cell_type": "markdown",
   "metadata": {},
   "source": [
    "Import Datasets"
   ]
  },
  {
   "cell_type": "code",
   "execution_count": 4,
   "metadata": {},
   "outputs": [],
   "source": [
    "df_train = pd.read_csv('../Data/csv_result-Descriptors_Training.csv', index_col='id')\n",
    "\n",
    "df_valid = pd.read_csv('../Data/csv_result-Descriptors_Calibration.csv', index_col='id')"
   ]
  },
  {
   "cell_type": "code",
   "execution_count": 5,
   "metadata": {},
   "outputs": [
    {
     "data": {
      "text/html": [
       "<div>\n",
       "<style scoped>\n",
       "    .dataframe tbody tr th:only-of-type {\n",
       "        vertical-align: middle;\n",
       "    }\n",
       "\n",
       "    .dataframe tbody tr th {\n",
       "        vertical-align: top;\n",
       "    }\n",
       "\n",
       "    .dataframe thead th {\n",
       "        text-align: right;\n",
       "    }\n",
       "</style>\n",
       "<table border=\"1\" class=\"dataframe\">\n",
       "  <thead>\n",
       "    <tr style=\"text-align: right;\">\n",
       "      <th></th>\n",
       "      <th>IP_ES_25_N1</th>\n",
       "      <th>Z3_IB_4_N1</th>\n",
       "      <th>Z1_IB_10_N1</th>\n",
       "      <th>Z1_IB_5_N1</th>\n",
       "      <th>Z3_IB_8_N1</th>\n",
       "      <th>ECI_IB_4_N1</th>\n",
       "      <th>ECI_IB_5_N1</th>\n",
       "      <th>Gs(U)_IB_12_N1</th>\n",
       "      <th>Gs(U)_IB_68_N1</th>\n",
       "      <th>Gs(U)_IB_58_N1</th>\n",
       "      <th>...</th>\n",
       "      <th>Z3_NO_UCR_S</th>\n",
       "      <th>Z3_NO_UCR_N1</th>\n",
       "      <th>ECI_NO_UCR_CV</th>\n",
       "      <th>Pa_NO_BSR_SI71</th>\n",
       "      <th>ISA_NO_NPR_S</th>\n",
       "      <th>Z3_NO_NPR_V</th>\n",
       "      <th>IP_NO_PLR_S</th>\n",
       "      <th>Pb_NO_PCR_V</th>\n",
       "      <th>ECI_NO_PCR_CV</th>\n",
       "      <th>class</th>\n",
       "    </tr>\n",
       "    <tr>\n",
       "      <th>id</th>\n",
       "      <th></th>\n",
       "      <th></th>\n",
       "      <th></th>\n",
       "      <th></th>\n",
       "      <th></th>\n",
       "      <th></th>\n",
       "      <th></th>\n",
       "      <th></th>\n",
       "      <th></th>\n",
       "      <th></th>\n",
       "      <th></th>\n",
       "      <th></th>\n",
       "      <th></th>\n",
       "      <th></th>\n",
       "      <th></th>\n",
       "      <th></th>\n",
       "      <th></th>\n",
       "      <th></th>\n",
       "      <th></th>\n",
       "      <th></th>\n",
       "      <th></th>\n",
       "    </tr>\n",
       "  </thead>\n",
       "  <tbody>\n",
       "    <tr>\n",
       "      <th>1</th>\n",
       "      <td>5.59</td>\n",
       "      <td>14.91</td>\n",
       "      <td>13.69</td>\n",
       "      <td>6.45</td>\n",
       "      <td>12.11</td>\n",
       "      <td>28.79</td>\n",
       "      <td>32.4</td>\n",
       "      <td>0.06</td>\n",
       "      <td>0.09</td>\n",
       "      <td>0.04</td>\n",
       "      <td>...</td>\n",
       "      <td>0.69</td>\n",
       "      <td>23.12</td>\n",
       "      <td>0.64</td>\n",
       "      <td>0.76</td>\n",
       "      <td>-0.79</td>\n",
       "      <td>0.68</td>\n",
       "      <td>0.54</td>\n",
       "      <td>0.02</td>\n",
       "      <td>0.59</td>\n",
       "      <td>P</td>\n",
       "    </tr>\n",
       "  </tbody>\n",
       "</table>\n",
       "<p>1 rows × 29 columns</p>\n",
       "</div>"
      ],
      "text/plain": [
       "    IP_ES_25_N1  Z3_IB_4_N1  Z1_IB_10_N1  Z1_IB_5_N1  Z3_IB_8_N1  ECI_IB_4_N1  \\\n",
       "id                                                                              \n",
       "1          5.59       14.91        13.69        6.45       12.11        28.79   \n",
       "\n",
       "    ECI_IB_5_N1  Gs(U)_IB_12_N1  Gs(U)_IB_68_N1  Gs(U)_IB_58_N1  ...  \\\n",
       "id                                                               ...   \n",
       "1          32.4            0.06            0.09            0.04  ...   \n",
       "\n",
       "    Z3_NO_UCR_S  Z3_NO_UCR_N1  ECI_NO_UCR_CV  Pa_NO_BSR_SI71  ISA_NO_NPR_S  \\\n",
       "id                                                                           \n",
       "1          0.69         23.12           0.64            0.76         -0.79   \n",
       "\n",
       "    Z3_NO_NPR_V  IP_NO_PLR_S  Pb_NO_PCR_V  ECI_NO_PCR_CV  class  \n",
       "id                                                               \n",
       "1          0.68         0.54         0.02           0.59      P  \n",
       "\n",
       "[1 rows x 29 columns]"
      ]
     },
     "execution_count": 5,
     "metadata": {},
     "output_type": "execute_result"
    }
   ],
   "source": [
    "df_train.head(1)"
   ]
  },
  {
   "cell_type": "code",
   "execution_count": 6,
   "metadata": {},
   "outputs": [
    {
     "data": {
      "text/plain": [
       "N    29\n",
       "Name: class, dtype: int64"
      ]
     },
     "execution_count": 6,
     "metadata": {},
     "output_type": "execute_result"
    }
   ],
   "source": [
    "df_train[df_train['Pb_NO_PCR_V'] == -9999.00]['class'].value_counts()"
   ]
  },
  {
   "cell_type": "markdown",
   "metadata": {},
   "source": [
    "Creating Input and Target variables"
   ]
  },
  {
   "cell_type": "code",
   "execution_count": 7,
   "metadata": {},
   "outputs": [],
   "source": [
    "predictors = df_train.drop(columns='class').columns\n",
    "\n",
    "X_train = df_train[predictors]\n",
    "Y_train = df_train['class']\n",
    "\n",
    "X_calib = df_valid[predictors]\n",
    "Y_calib = df_valid['class']"
   ]
  },
  {
   "cell_type": "markdown",
   "metadata": {},
   "source": [
    "#### Using Isolation forests to predict outliers"
   ]
  },
  {
   "cell_type": "code",
   "execution_count": 8,
   "metadata": {},
   "outputs": [],
   "source": [
    "from sklearn.ensemble import IsolationForest\n",
    "\n",
    "def detectOutliers(df, full_df, col_name='outliers'):\n",
    "    \n",
    "    clf = IsolationForest(n_estimators=100, max_samples='auto', contamination=float(.12), \n",
    "                      max_features=1.0, bootstrap=False, n_jobs=-1, random_state=42, verbose=0)\n",
    "\n",
    "    pred = clf.fit_predict(df)\n",
    "\n",
    "    dummy_df = pd.concat(\n",
    "        [\n",
    "            full_df.reset_index(drop=True),\n",
    "            pd.Series(pred, name=col_name)\n",
    "        ], \n",
    "        axis=1)\n",
    "    \n",
    "    return dummy_df"
   ]
  },
  {
   "cell_type": "markdown",
   "metadata": {},
   "source": [
    "Create input and target variables for dataset without outliers"
   ]
  },
  {
   "cell_type": "code",
   "execution_count": 9,
   "metadata": {},
   "outputs": [],
   "source": [
    "df_outliers = detectOutliers(X_train, df_train)"
   ]
  },
  {
   "cell_type": "code",
   "execution_count": 10,
   "metadata": {},
   "outputs": [],
   "source": [
    "df_no_outliers = df_outliers[df_outliers['outliers'] == 1]\n",
    "X_train_wo = df_no_outliers[predictors]\n",
    "Y_train_wo = df_no_outliers['class']"
   ]
  },
  {
   "cell_type": "code",
   "execution_count": 11,
   "metadata": {},
   "outputs": [
    {
     "data": {
      "text/plain": [
       "outliers  class\n",
       " 1        N        16661\n",
       "-1        N         2200\n",
       " 1        P          928\n",
       "-1        P          199\n",
       "dtype: int64"
      ]
     },
     "execution_count": 11,
     "metadata": {},
     "output_type": "execute_result"
    },
    {
     "data": {
      "image/png": "[encoded data removed]",
      "text/plain": [
       "<Figure size 406x360 with 1 Axes>"
      ]
     },
     "metadata": {
      "needs_background": "light"
     },
     "output_type": "display_data"
    }
   ],
   "source": [
    "sns.displot(x='class',hue='outliers',data=df_outliers)\n",
    "df_outliers[['outliers','class']].value_counts()"
   ]
  },
  {
   "cell_type": "markdown",
   "metadata": {},
   "source": [
    "---\n",
    "---\n",
    "---"
   ]
  },
  {
   "cell_type": "raw",
   "metadata": {},
   "source": [
    "from sklearn.decomposition import PCA\n",
    "from sklearn.preprocessing import StandardScaler\n",
    "from mpl_toolkits.mplot3d import Axes3D"
   ]
  },
  {
   "cell_type": "raw",
   "metadata": {},
   "source": [
    "outliers = df_train.loc[df_train['outliers'] == -1]\n",
    "outlier_index = outliers.index\n",
    "\n",
    "pca = PCA(n_components=3)  # Reduce to k=3 dimensions\n",
    "#scaler = StandardScaler()\n",
    "#normalize the metrics\n",
    "#X = scaler.fit_transform(df_train[predictors])\n",
    "X_reduce = pca.fit_transform(df_train[predictors])\n",
    "fig = plt.figure(figsize=(15,15))\n",
    "ax = fig.add_subplot(111, projection='3d')\n",
    "ax.set_zlabel(\"x_composite_3\")\n",
    "\n",
    "print(X_reduce[19987])\n",
    "# Plot the compressed data points\n",
    "ax.scatter(X_reduce[:, 0], X_reduce[:, 1], zs=X_reduce[:, 2], s=4, lw=1, label=\"inliers\",c=\"green\")\n",
    "# Plot x's for the ground truth outliers\n",
    "ax.scatter(X_reduce[outlier_index-1,0],X_reduce[outlier_index-1,1], X_reduce[outlier_index-1,2],lw=2, s=60, marker=\"x\", c=\"red\", label=\"outliers\")\n",
    "#ax.legend()\n",
    "#plt.show()"
   ]
  },
  {
   "cell_type": "raw",
   "metadata": {},
   "source": [
    "XGboost = GradientBoostingClassifier()\n",
    "\n",
    "XGboost.fit(,df_train['class'])\n",
    "\n",
    "sorted_feature_importance = sorted(zip(XGboost.feature_importances_, input_df.columns))\n",
    "\n",
    "x = [a[0] for a in sorted_feature_importance]\n",
    "y = [a[1] for a in sorted_feature_importance]\n",
    "\n",
    "sns.set_style('whitegrid')\n",
    "plt.figure(figsize=(10,8))\n",
    "plt.scatter(x[:15],y[:15])\n",
    "plt.title('Feature Importances')\n",
    "plt.show()"
   ]
  },
  {
   "cell_type": "raw",
   "metadata": {},
   "source": [
    "cv = RepeatedStratifiedKFold(n_splits=10, n_repeats=3, random_state=1)\n",
    "\n",
    "n_scores = cross_val_score(model, input_df, df_train['class'], scoring='accuracy', cv=cv, n_jobs=-1)\n",
    "\n",
    "print('Mean Accuracy: %.3f (%.3f)' % (np.mean(n_scores), np.std(n_scores)))"
   ]
  },
  {
   "cell_type": "markdown",
   "metadata": {},
   "source": [
    "---\n",
    "---\n",
    "---\n",
    "#### Using Gradient Boosting Classifier With Outliers"
   ]
  },
  {
   "cell_type": "code",
   "execution_count": 29,
   "metadata": {},
   "outputs": [],
   "source": [
    "from sklearn.ensemble import GradientBoostingClassifier\n",
    "from sklearn.metrics import confusion_matrix, precision_score, recall_score, ConfusionMatrixDisplay, f1_score\n",
    "from sklearn.model_selection import cross_val_score, RepeatedStratifiedKFold"
   ]
  },
  {
   "cell_type": "code",
   "execution_count": 13,
   "metadata": {},
   "outputs": [],
   "source": [
    "model = GradientBoostingClassifier()\n",
    "model.fit(X_train, Y_train)\n",
    "pred = model.predict(X_calib)"
   ]
  },
  {
   "cell_type": "code",
   "execution_count": 14,
   "metadata": {},
   "outputs": [
    {
     "name": "stdout",
     "output_type": "stream",
     "text": [
      "F1-score: [0.97095179 0.00704225]\n",
      "Precision: [0.94392149 0.33333333]\n",
      "Recall: [0.99957582 0.00355872]\n"
     ]
    },
    {
     "data": {
      "image/png": "[encoded data removed]",
      "text/plain": [
       "<Figure size 432x288 with 2 Axes>"
      ]
     },
     "metadata": {
      "needs_background": "light"
     },
     "output_type": "display_data"
    }
   ],
   "source": [
    "y_val = Y_calib.values\n",
    "cm = confusion_matrix(Y_calib, pred)\n",
    "\n",
    "print(f'F1-score: {f1_score(y_val, pred, average=None)}')\n",
    "print(f'Precision: {precision_score(y_val, pred,average=None)}')\n",
    "print(f'Recall: {recall_score(y_val, pred,average=None)}')\n",
    "\n",
    "disp = ConfusionMatrixDisplay(confusion_matrix=cm, display_labels=['N','P'])\n",
    "disp = disp.plot(include_values=True)\n",
    "\n",
    "plt.show()"
   ]
  },
  {
   "cell_type": "code",
   "execution_count": 15,
   "metadata": {},
   "outputs": [
    {
     "data": {
      "text/plain": [
       "N    4715\n",
       "P     281\n",
       "Name: class, dtype: int64"
      ]
     },
     "execution_count": 15,
     "metadata": {},
     "output_type": "execute_result"
    }
   ],
   "source": [
    "Y_calib.value_counts()"
   ]
  },
  {
   "cell_type": "markdown",
   "metadata": {},
   "source": [
    "#### Using Gradient Boosting Classifier without Outliers"
   ]
  },
  {
   "cell_type": "code",
   "execution_count": 16,
   "metadata": {},
   "outputs": [],
   "source": [
    "model_wo = GradientBoostingClassifier()\n",
    "model_wo.fit(X_train_wo, Y_train_wo)\n",
    "pred_wo = model_wo.predict(X_calib)"
   ]
  },
  {
   "cell_type": "code",
   "execution_count": 17,
   "metadata": {},
   "outputs": [
    {
     "name": "stdout",
     "output_type": "stream",
     "text": [
      "F1-score: [0.96739468 0.04833837]\n",
      "Precision: [0.94480388 0.16      ]\n",
      "Recall: [0.99109226 0.02846975]\n"
     ]
    },
    {
     "data": {
      "image/png": "[encoded data removed]",
      "text/plain": [
       "<Figure size 432x288 with 2 Axes>"
      ]
     },
     "metadata": {
      "needs_background": "light"
     },
     "output_type": "display_data"
    }
   ],
   "source": [
    "cm = confusion_matrix(y_val, pred_wo)\n",
    "\n",
    "print(f'F1-score: {f1_score(y_val, pred_wo, average=None)}')\n",
    "print(f'Precision: {precision_score(y_val, pred_wo,average=None)}')\n",
    "print(f'Recall: {recall_score(y_val, pred_wo,average=None)}')\n",
    "\n",
    "\n",
    "disp = ConfusionMatrixDisplay(confusion_matrix=cm, display_labels=['N','P'])\n",
    "disp = disp.plot(include_values=True)\n",
    "\n",
    "plt.show()"
   ]
  },
  {
   "cell_type": "markdown",
   "metadata": {},
   "source": [
    "---\n",
    "---\n",
    "---\n",
    "#### Create a pipeline for - Normalizing Data, Prediction Model"
   ]
  },
  {
   "cell_type": "raw",
   "metadata": {},
   "source": [
    "from sklearn.pipeline import make_pipeline\n",
    "from sklearn.preprocessing import StandardScaler"
   ]
  },
  {
   "cell_type": "raw",
   "metadata": {},
   "source": [
    "pipe = make_pipeline(StandardScaler(), GradientBoostingClassifier())\n",
    "\n",
    "pipe.fit(input_df, df_train['class'])\n",
    "\n",
    "prep_pred = pipe.predict(df_valid[predictors])"
   ]
  },
  {
   "cell_type": "raw",
   "metadata": {},
   "source": [
    "y_val = df_valid['class'].values\n",
    "\n",
    "cm = confusion_matrix(y_val, prep_pred)\n",
    "\n",
    "print(f'Precision: {precision_score(y_val, prep_pred,average=None)}')\n",
    "\n",
    "print(f'Recall: {recall_score(y_val, prep_pred,average=None)}')\n",
    "\n",
    "\n",
    "disp = ConfusionMatrixDisplay(confusion_matrix=cm,\n",
    "                              display_labels=['N','P'])\n",
    "disp = disp.plot(include_values=True)\n",
    "\n",
    "plt.show()"
   ]
  },
  {
   "cell_type": "markdown",
   "metadata": {},
   "source": [
    "#### Create a pipeline for without outliers - Normalizing Data, Prediction Model"
   ]
  },
  {
   "cell_type": "raw",
   "metadata": {},
   "source": [
    "pipe_wo = make_pipeline(StandardScaler(), GradientBoostingClassifier())\n",
    "\n",
    "pipe_wo.fit(ip_dfwo_out, df_no_outliers['class'])\n",
    "\n",
    "prepwo_pred = pipe_wo.predict(df_valid[predictors])"
   ]
  },
  {
   "cell_type": "raw",
   "metadata": {},
   "source": [
    "y_val = df_valid_wo_outliers['class'].values\n",
    "\n",
    "cm = confusion_matrix(y_val, prepwo_pred)\n",
    "\n",
    "print(f'Precision: {precision_score(y_val, prepwo_pred,average=None)}')\n",
    "\n",
    "print(f'Recall: {recall_score(y_val, prepwo_pred,average=None)}')\n",
    "\n",
    "\n",
    "disp = ConfusionMatrixDisplay(confusion_matrix=cm,\n",
    "                              display_labels=['N','P'])\n",
    "disp = disp.plot(include_values=True)\n",
    "\n",
    "plt.show()"
   ]
  },
  {
   "cell_type": "markdown",
   "metadata": {},
   "source": [
    "Without Outliers we are losing **TP**"
   ]
  },
  {
   "cell_type": "markdown",
   "metadata": {},
   "source": [
    "---\n",
    "---\n",
    "---\n",
    "#### Using SMOTE for oversampling and random undersampling mix"
   ]
  },
  {
   "cell_type": "code",
   "execution_count": 18,
   "metadata": {},
   "outputs": [],
   "source": [
    "from imblearn.pipeline import Pipeline\n",
    "from imblearn.over_sampling import SMOTE\n",
    "from imblearn.under_sampling import RandomUnderSampler\n",
    "from sklearn.preprocessing import StandardScaler"
   ]
  },
  {
   "cell_type": "code",
   "execution_count": 19,
   "metadata": {},
   "outputs": [],
   "source": [
    "std = StandardScaler()\n",
    "smote_model = GradientBoostingClassifier()\n",
    "over = SMOTE(sampling_strategy=0.1)\n",
    "under = RandomUnderSampler(sampling_strategy=0.5)\n",
    "steps = [('std',std), ('over', over), ('under', under), ('model', smote_model)]\n",
    "pipeline = Pipeline(steps=steps)\n",
    "\n",
    "\n",
    "pipeline.fit(X_train, Y_train)\n",
    "smote_pred = pipeline.predict(X_calib)"
   ]
  },
  {
   "cell_type": "code",
   "execution_count": 20,
   "metadata": {},
   "outputs": [
    {
     "name": "stdout",
     "output_type": "stream",
     "text": [
      "F1-score: [0.94502924 0.11925043]\n",
      "Precision: [0.94754797 0.11437908]\n",
      "Recall: [0.94252386 0.12455516]\n"
     ]
    },
    {
     "data": {
      "image/png": "[encoded data removed]",
      "text/plain": [
       "<Figure size 432x288 with 2 Axes>"
      ]
     },
     "metadata": {
      "needs_background": "light"
     },
     "output_type": "display_data"
    }
   ],
   "source": [
    "cm = confusion_matrix(y_val, smote_pred)\n",
    "\n",
    "print(f'F1-score: {f1_score(y_val, smote_pred, average=None)}')\n",
    "print(f'Precision: {precision_score(y_val, smote_pred,average=None)}')\n",
    "print(f'Recall: {recall_score(y_val, smote_pred,average=None)}')\n",
    "\n",
    "disp = ConfusionMatrixDisplay(confusion_matrix=cm, display_labels=['N','P'])\n",
    "disp = disp.plot(include_values=True)\n",
    "\n",
    "plt.show()"
   ]
  },
  {
   "cell_type": "markdown",
   "metadata": {},
   "source": [
    "*Same as above without outliers*"
   ]
  },
  {
   "cell_type": "code",
   "execution_count": 21,
   "metadata": {},
   "outputs": [],
   "source": [
    "std_wo = StandardScaler()\n",
    "smote_model_wo = GradientBoostingClassifier()\n",
    "over_wo = SMOTE(sampling_strategy=0.1)\n",
    "under_wo = RandomUnderSampler(sampling_strategy=0.5)\n",
    "steps_wo = [('std',std_wo), ('over', over_wo), ('under', under_wo), ('model', smote_model_wo)]\n",
    "pipeline = Pipeline(steps=steps_wo)\n",
    "\n",
    "pipeline.fit(X_train_wo, Y_train_wo)\n",
    "smote_pred_wo = pipeline.predict(X_calib)"
   ]
  },
  {
   "cell_type": "code",
   "execution_count": 22,
   "metadata": {},
   "outputs": [
    {
     "name": "stdout",
     "output_type": "stream",
     "text": [
      "F1-score: [0.94473964 0.10652921]\n",
      "Precision: [0.94675186 0.10299003]\n",
      "Recall: [0.94273595 0.11032028]\n"
     ]
    },
    {
     "data": {
      "image/png": "[encoded data removed]",
      "text/plain": [
       "<Figure size 432x288 with 2 Axes>"
      ]
     },
     "metadata": {
      "needs_background": "light"
     },
     "output_type": "display_data"
    }
   ],
   "source": [
    "cm = confusion_matrix(y_val, smote_pred_wo)\n",
    "\n",
    "print(f'F1-score: {f1_score(y_val, smote_pred_wo, average=None)}')\n",
    "print(f'Precision: {precision_score(y_val, smote_pred_wo,average=None)}')\n",
    "print(f'Recall: {recall_score(y_val, smote_pred_wo,average=None)}')\n",
    "\n",
    "disp = ConfusionMatrixDisplay(confusion_matrix=cm, display_labels=['N','P'])\n",
    "disp = disp.plot(include_values=True)\n",
    "\n",
    "plt.show()"
   ]
  },
  {
   "cell_type": "markdown",
   "metadata": {},
   "source": [
    "#### Parameter tunning XG BOOST"
   ]
  },
  {
   "cell_type": "code",
   "execution_count": 23,
   "metadata": {},
   "outputs": [],
   "source": [
    "def modelfit(pip, x_train, y_train, x_test, y_test, predictors):\n",
    "    \n",
    "    \n",
    "    #Fit the algorithm on the data\n",
    "    pip.fit(x_train, y_train)\n",
    "        \n",
    "    #Predict training set:\n",
    "    pred = pip.predict(x_test)\n",
    "    \n",
    "    y_val = y_test.values\n",
    "    \n",
    "    cm = confusion_matrix(y_val, pred)\n",
    "\n",
    "    print(f'F1-score: {f1_score(y_val, pred, average=None)}')\n",
    "    print(f'Precision: {precision_score(y_val, pred,average=None)}')\n",
    "    print(f'Recall: {recall_score(y_val, pred,average=None)}')\n",
    "\n",
    "    disp = ConfusionMatrixDisplay(confusion_matrix=cm, display_labels=['N','P'])\n",
    "    disp = disp.plot(include_values=True)\n",
    "\n",
    "    plt.show()"
   ]
  },
  {
   "cell_type": "code",
   "execution_count": 24,
   "metadata": {},
   "outputs": [],
   "source": [
    "def create_pipeline(scale, over, under, model):\n",
    "    \n",
    "    steps = [('std',scale), ('over', over), ('under', under), ('model', model)]\n",
    "    return Pipeline(steps=steps)"
   ]
  },
  {
   "cell_type": "markdown",
   "metadata": {},
   "source": [
    "Tuned Parameters"
   ]
  },
  {
   "cell_type": "code",
   "execution_count": 25,
   "metadata": {},
   "outputs": [
    {
     "name": "stdout",
     "output_type": "stream",
     "text": [
      "F1-score: [0.94231794 0.11745514]\n",
      "Precision: [0.94746998 0.10843373]\n",
      "Recall: [0.93722163 0.12811388]\n"
     ]
    },
    {
     "data": {
      "image/png": "[encoded data removed]",
      "text/plain": [
       "<Figure size 432x288 with 2 Axes>"
      ]
     },
     "metadata": {
      "needs_background": "light"
     },
     "output_type": "display_data"
    }
   ],
   "source": [
    "gbm_optimized = GradientBoostingClassifier(learning_rate=0.05, n_estimators=80, max_depth=11, max_features=17,\n",
    "                                 min_samples_split=800, min_samples_leaf=50,subsample=0.75, random_state=10)\n",
    "\n",
    "scale = StandardScaler()\n",
    "over = SMOTE(sampling_strategy=0.1)\n",
    "under = RandomUnderSampler(sampling_strategy=0.5)\n",
    "\n",
    "pipeline = create_pipeline(scale, over, under, gbm_optimized)\n",
    "\n",
    "modelfit(pipeline, X_train, Y_train, X_calib, Y_calib,predictors)"
   ]
  },
  {
   "cell_type": "markdown",
   "metadata": {},
   "source": [
    "Tuned Parameter 2"
   ]
  },
  {
   "cell_type": "raw",
   "metadata": {},
   "source": [
    "xgb2 = GradientBoostingClassifier(\n",
    "        learning_rate =0.1,\n",
    "        n_estimators=1000,\n",
    "        max_depth=4,\n",
    "        subsample=0.8)\n",
    "\n",
    "pipeline2 = create_pipeline(scale, over, under, xgb2)\n",
    "\n",
    "modelfit(pipeline2, X_train, Y_train, X_calib, Y_calib,predictors)"
   ]
  },
  {
   "cell_type": "markdown",
   "metadata": {},
   "source": [
    "#### Finding the optimal parmeters using Grid Search "
   ]
  },
  {
   "cell_type": "code",
   "execution_count": 26,
   "metadata": {},
   "outputs": [],
   "source": [
    "from sklearn.model_selection import GridSearchCV"
   ]
  },
  {
   "cell_type": "code",
   "execution_count": 27,
   "metadata": {},
   "outputs": [],
   "source": [
    "scale = StandardScaler()\n",
    "over = SMOTE(sampling_strategy=0.1)\n",
    "under = RandomUnderSampler(sampling_strategy=0.5)"
   ]
  },
  {
   "cell_type": "markdown",
   "metadata": {},
   "source": [
    "*Find number of estimators*"
   ]
  },
  {
   "cell_type": "code",
   "execution_count": null,
   "metadata": {},
   "outputs": [],
   "source": [
    "gbm = GradientBoostingClassifier(random_state=10) \n",
    "\n",
    "pipelineGSCV = create_pipeline(scale, over, under, gbm)\n",
    "\n",
    "param_test1 = {'model__learning_rate':[0.05,0.01,0.005],\n",
    "               'model__n_estimators':range(20,81,10),\n",
    "               'model__max_depth':range(5,16,2), \n",
    "               'model__min_samples_split':range(200,1001,200),\n",
    "               'model__min_samples_leaf':range(30,71,10),\n",
    "               'model__max_features':range(7,20,2),\n",
    "               'model__subsample':[0.6,0.7,0.75,0.8,0.85,0.9],}\n",
    "\n",
    "gsearch1 = GridSearchCV(pipelineGSCV,param_test1,scoring=['precision','recall'],n_jobs=4, cv=5,refit=False)\n",
    "\n",
    "gsearch1.fit(X_train,Y_train)\n",
    "\n",
    "Audio(notify, autoplay=True)"
   ]
  },
  {
   "cell_type": "code",
   "execution_count": null,
   "metadata": {},
   "outputs": [],
   "source": [
    "#gsearch1.gri"
   ]
  },
  {
   "cell_type": "code",
   "execution_count": null,
   "metadata": {},
   "outputs": [],
   "source": [
    "pipelineGSCV.get_params().keys()"
   ]
  },
  {
   "cell_type": "code",
   "execution_count": null,
   "metadata": {},
   "outputs": [],
   "source": [
    "GradientBoostingClassifier()"
   ]
  }
 ],
 "metadata": {
  "kernelspec": {
   "display_name": "Python 3",
   "language": "python",
   "name": "python3"
  },
  "language_info": {
   "codemirror_mode": {
    "name": "ipython",
    "version": 3
   },
   "file_extension": ".py",
   "mimetype": "text/x-python",
   "name": "python",
   "nbconvert_exporter": "python",
   "pygments_lexer": "ipython3",
   "version": "3.8.5"
  }
 },
 "nbformat": 4,
 "nbformat_minor": 4
}
