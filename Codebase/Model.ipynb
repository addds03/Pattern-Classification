{
 "cells": [
  {
   "cell_type": "code",
   "execution_count": 1,
   "metadata": {},
   "outputs": [],
   "source": [
    "import pandas as pd\n",
    "import numpy as np\n",
    "import matplotlib.pyplot as plt\n",
    "from matplotlib.legend_handler import HandlerLine2D"
   ]
  },
  {
   "cell_type": "code",
   "execution_count": 2,
   "metadata": {},
   "outputs": [],
   "source": [
    "df_train = pd.read_csv('../Data/Cleaned/Training.csv')\n",
    "df_valid = pd.read_csv('../Data/Cleaned/Calibration.csv')"
   ]
  },
  {
   "cell_type": "code",
   "execution_count": 3,
   "metadata": {},
   "outputs": [
    {
     "data": {
      "text/plain": [
       "(19920, 29)"
      ]
     },
     "execution_count": 3,
     "metadata": {},
     "output_type": "execute_result"
    }
   ],
   "source": [
    "df_train.shape"
   ]
  },
  {
   "cell_type": "markdown",
   "metadata": {},
   "source": [
    "Z1_IB_5_N1          Z1_IB_10_N1           Z3_IB_4_N1\n",
    "\n",
    "ECI_IB_4_N1         ECI_IB_5_N1           \n",
    "\n",
    "Z1_IB_10_N1         Z3_IB_8_N1           Z1_IB_5_N1  "
   ]
  },
  {
   "cell_type": "code",
   "execution_count": 4,
   "metadata": {},
   "outputs": [],
   "source": [
    "#### Removed Highly colinear column -- .85"
   ]
  },
  {
   "cell_type": "code",
   "execution_count": 5,
   "metadata": {},
   "outputs": [],
   "source": [
    "#drop_cols = ['Z1_IB_10_N1','Z3_IB_4_N1','ECI_IB_5_N1', 'Z3_IB_8_N1', 'Z1_IB_5_N1']"
   ]
  },
  {
   "cell_type": "code",
   "execution_count": 6,
   "metadata": {},
   "outputs": [],
   "source": [
    "#df_train.drop(columns=drop_cols, axis=1, inplace=True)\n",
    "#df_valid.drop(columns=drop_cols, axis=1, inplace=True)"
   ]
  },
  {
   "cell_type": "code",
   "execution_count": 7,
   "metadata": {},
   "outputs": [],
   "source": [
    "predictors = df_train.drop(columns='class').columns\n",
    "\n",
    "X_train = df_train[predictors]\n",
    "Y_train = df_train['class']\n",
    "\n",
    "X_calib = df_valid[predictors]\n",
    "Y_calib = df_valid['class']"
   ]
  },
  {
   "cell_type": "code",
   "execution_count": 8,
   "metadata": {},
   "outputs": [],
   "source": [
    "from imblearn.over_sampling import SMOTE\n",
    "from imblearn.under_sampling import RandomUnderSampler, TomekLinks\n",
    "from imblearn.combine import SMOTETomek\n",
    "\n",
    "from sklearn.preprocessing import StandardScaler, LabelEncoder\n",
    "from sklearn.compose import make_column_transformer\n",
    "from sklearn.decomposition import PCA"
   ]
  },
  {
   "cell_type": "code",
   "execution_count": 9,
   "metadata": {},
   "outputs": [],
   "source": [
    "from sklearn.ensemble import GradientBoostingClassifier\n",
    "from sklearn.model_selection import GridSearchCV\n",
    "from imblearn.pipeline import Pipeline"
   ]
  },
  {
   "cell_type": "code",
   "execution_count": 10,
   "metadata": {},
   "outputs": [],
   "source": [
    "from sklearn.metrics import confusion_matrix, precision_score, recall_score \n",
    "from sklearn.metrics import ConfusionMatrixDisplay, f1_score, average_precision_score"
   ]
  },
  {
   "cell_type": "code",
   "execution_count": 20,
   "metadata": {},
   "outputs": [],
   "source": [
    "def converttonum(Y_train = None,Y_calib = None):\n",
    "    \n",
    "    return LabelEncoder().fit_transform(Y_train),LabelEncoder().fit_transform(Y_calib)"
   ]
  },
  {
   "cell_type": "code",
   "execution_count": 12,
   "metadata": {},
   "outputs": [],
   "source": [
    "def modelfit(pip, x_train, y_train, x_test, y_test, predictors):\n",
    "    \n",
    "    y_train, y_test = converttonum(y_train, y_test)\n",
    "    \n",
    "    #Fit the algorithm on the data\n",
    "    pip.fit(x_train, y_train)\n",
    "        \n",
    "    #Predict training set:\n",
    "    pred = pip.predict(x_test)\n",
    "    \n",
    "    \n",
    "    cm = confusion_matrix(y_test, pred)\n",
    "\n",
    "    #print(f'F1-score: {f1_score(y_test, pred)}')\n",
    "    print(f'Precision: {100*round(precision_score(y_test, pred),4)}%')\n",
    "    print(f'Recall: {100*round(recall_score(y_test, pred),4)}%')\n",
    "\n",
    "    disp = ConfusionMatrixDisplay(confusion_matrix=cm, display_labels=['N','P'])\n",
    "    disp = disp.plot(include_values=True)\n",
    "\n",
    "    plt.show()"
   ]
  },
  {
   "cell_type": "code",
   "execution_count": 13,
   "metadata": {},
   "outputs": [],
   "source": [
    "def create_pipeline(scale, model,over=None, under=None, resample=None, pca=None):\n",
    "    if resample == None:\n",
    "        steps = [('std',scale), ('over', over), ('under', under), ('pca', pca), ('model', model)]\n",
    "    else:\n",
    "        steps = [('std',scale), ('smotetomek', resample), ('pca', pca), ('model', model)]\n",
    "    return Pipeline(steps=steps)"
   ]
  },
  {
   "cell_type": "code",
   "execution_count": 14,
   "metadata": {},
   "outputs": [
    {
     "name": "stdout",
     "output_type": "stream",
     "text": [
      "Precision: 6.890000000000001%\n",
      "Recall: 33.45%\n"
     ]
    },
    {
     "data": {
      "image/png": "[encoded data removed]",
      "text/plain": [
       "<Figure size 432x288 with 2 Axes>"
      ]
     },
     "metadata": {
      "needs_background": "light"
     },
     "output_type": "display_data"
    }
   ],
   "source": [
    "gbm_optimized = GradientBoostingClassifier(learning_rate=0.05, n_estimators=80, max_depth=11, \n",
    "                                 min_samples_split=800, min_samples_leaf=50,subsample=0.75, random_state=10)\n",
    "\n",
    "scale = StandardScaler()\n",
    "over = SMOTE()\n",
    "under = RandomUnderSampler()\n",
    "pca = PCA(n_components=26)\n",
    "#col_trans = make_column_transformer((OrdinalEncoder(), ['Pb_NO_PCR_V']))\n",
    "resample = SMOTETomek(tomek=TomekLinks(sampling_strategy='majority'))\n",
    "\n",
    "pipeline = create_pipeline(scale, gbm_optimized, over, under, resample, pca)\n",
    "\n",
    "modelfit(pipeline, X_train, Y_train, X_calib, Y_calib,predictors)"
   ]
  },
  {
   "cell_type": "markdown",
   "metadata": {},
   "source": [
    "### *Tunning the model based on Precision and Recall*"
   ]
  },
  {
   "cell_type": "code",
   "execution_count": 17,
   "metadata": {},
   "outputs": [],
   "source": [
    "from sklearn.metrics import precision_recall_curve"
   ]
  },
  {
   "cell_type": "code",
   "execution_count": 15,
   "metadata": {},
   "outputs": [],
   "source": [
    "y_scores = pipeline.predict_proba(X_calib)[:,1]"
   ]
  },
  {
   "cell_type": "code",
   "execution_count": 23,
   "metadata": {},
   "outputs": [],
   "source": [
    "_, Y_calib_num = converttonum(Y_train, Y_calib)"
   ]
  },
  {
   "cell_type": "code",
   "execution_count": 24,
   "metadata": {},
   "outputs": [],
   "source": [
    "p, r, thresholds = precision_recall_curve(Y_calib_num, y_scores)"
   ]
  },
  {
   "cell_type": "code",
   "execution_count": 29,
   "metadata": {},
   "outputs": [
    {
     "data": {
      "text/plain": [
       "Text(0, 0.5, 'precision')"
      ]
     },
     "execution_count": 29,
     "metadata": {},
     "output_type": "execute_result"
    },
    {
     "data": {
      "image/png": "[encoded data removed]",
      "text/plain": [
       "<Figure size 432x288 with 1 Axes>"
      ]
     },
     "metadata": {
      "needs_background": "light"
     },
     "output_type": "display_data"
    }
   ],
   "source": [
    "plt.plot(r,p)\n",
    "plt.xlabel('recall')\n",
    "plt.ylabel('precision')"
   ]
  },
  {
   "cell_type": "raw",
   "metadata": {},
   "source": [
    "#gbm = GradientBoostingClassifier()\n",
    "\n",
    "#scale = StandardScaler()\n",
    "#over = SMOTE(sampling_strategy=0.1)\n",
    "#under = RandomUnderSampler(sampling_strategy=0.5)\n",
    "#pca = PCA()\n",
    "\n",
    "pipelineGSCV = create_pipeline(scale, gbm_optimized, over, under, resample, pca)\n",
    "\n",
    "Y_train, _ = converttonum(Y_train,Y_calib)\n",
    "    \n",
    "param_test = {'pca__svd_solver': ['auto', 'full', 'arpack', 'randomized']}\n",
    "\n",
    "gsearch = GridSearchCV(pipelineGSCV,param_grid = param_test,scoring=['precision','recall'], cv=5,refit=False)"
   ]
  },
  {
   "cell_type": "raw",
   "metadata": {},
   "source": [
    "gsearch.fit(X_train,Y_train)"
   ]
  },
  {
   "cell_type": "raw",
   "metadata": {},
   "source": [
    "gsearch.cv_results_"
   ]
  },
  {
   "cell_type": "raw",
   "metadata": {},
   "source": [
    "gsearch.get_params().keys()"
   ]
  },
  {
   "cell_type": "markdown",
   "metadata": {},
   "source": [
    "#### *Graphical Performance tunning*"
   ]
  },
  {
   "cell_type": "raw",
   "metadata": {},
   "source": [
    "def performance_test(params, pipeline, X_train, X_calib, Y_train, Y_calib):\n",
    "\n",
    "    train_results = []\n",
    "    test_results = []\n",
    "    \n",
    "    Y_train, Y_calib = converttonum(Y_train,Y_calib)\n",
    "\n",
    "    for eta in params:\n",
    "\n",
    "        model = GradientBoostingClassifier(learning_rate=0.05,n_estimators=80, max_depth=8, max_features=eta)\n",
    "\n",
    "        model.fit(X_train, Y_train)\n",
    "\n",
    "        train_pred = model.predict(X_train)\n",
    "\n",
    "\n",
    "        score = average_precision_score(Y_train, train_pred)\n",
    "        train_results.append(score)\n",
    "\n",
    "        calib_pred = model.predict(X_calib)\n",
    "\n",
    "        score = average_precision_score(Y_calib, calib_pred)\n",
    "        test_results.append(score)\n",
    "\n",
    "    line1, = plt.plot(params, train_results, 'b', label='Train AUC')\n",
    "    line2, = plt.plot(params, test_results, 'r', label='Test AUC')\n",
    "\n",
    "    plt.legend(handler_map={line1: HandlerLine2D(numpoints=2)})\n",
    "\n",
    "    plt.ylabel('Precision score')\n",
    "    plt.xlabel('parameter')\n",
    "    plt.show()"
   ]
  },
  {
   "cell_type": "raw",
   "metadata": {},
   "source": [
    "param_grid = list(range(1,X_train.shape[1]))\n",
    "\n",
    "\n",
    "performance_test(param_grid,X_train, X_calib, Y_train, Y_calib)"
   ]
  },
  {
   "cell_type": "markdown",
   "metadata": {},
   "source": [
    "#### Removing outliers drops the performance"
   ]
  },
  {
   "cell_type": "raw",
   "metadata": {},
   "source": [
    "from sklearn.ensemble import IsolationForest\n",
    "\n",
    "def detectOutliers(df, full_df, col_name='outliers'):\n",
    "    \n",
    "    clf = IsolationForest(n_estimators=100, max_samples='auto', contamination=float(.12), \n",
    "                      max_features=1.0, bootstrap=False, n_jobs=-1, random_state=42, verbose=0)\n",
    "\n",
    "    pred = clf.fit_predict(df)\n",
    "\n",
    "    dummy_df = pd.concat(\n",
    "        [\n",
    "            full_df.reset_index(drop=True),\n",
    "            pd.Series(pred, name=col_name)\n",
    "        ], \n",
    "        axis=1)\n",
    "    \n",
    "    dummy_df = dummy_df[dummy_df[col_name] == -1].index\n",
    "    return dummy_df"
   ]
  },
  {
   "cell_type": "raw",
   "metadata": {},
   "source": [
    "train_outInd = detectOutliers(X_train, df_train)"
   ]
  },
  {
   "cell_type": "raw",
   "metadata": {},
   "source": [
    "calib_outInd = detectOutliers(X_calib, df_valid)"
   ]
  },
  {
   "cell_type": "raw",
   "metadata": {},
   "source": [
    "pipeline = create_pipeline(scale, over, under, gbm_optimized)\n",
    "\n",
    "modelfit(pipeline, X_train.drop(index=train_outInd), Y_train.drop(index=train_outInd), \n",
    "         X_calib.drop(index=calib_outInd), Y_calib.drop(index=calib_outInd),predictors)"
   ]
  },
  {
   "cell_type": "code",
   "execution_count": null,
   "metadata": {},
   "outputs": [],
   "source": []
  }
 ],
 "metadata": {
  "kernelspec": {
   "display_name": "Python 3",
   "language": "python",
   "name": "python3"
  },
  "language_info": {
   "codemirror_mode": {
    "name": "ipython",
    "version": 3
   },
   "file_extension": ".py",
   "mimetype": "text/x-python",
   "name": "python",
   "nbconvert_exporter": "python",
   "pygments_lexer": "ipython3",
   "version": "3.8.5"
  }
 },
 "nbformat": 4,
 "nbformat_minor": 4
}
