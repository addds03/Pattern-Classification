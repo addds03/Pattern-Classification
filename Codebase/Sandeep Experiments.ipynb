{
 "cells": [
  {
   "cell_type": "markdown",
   "id": "assured-regression",
   "metadata": {},
   "source": [
    "## Importing the Libraries"
   ]
  },
  {
   "cell_type": "code",
   "execution_count": 1,
   "id": "flying-cruise",
   "metadata": {},
   "outputs": [],
   "source": [
    "import pandas as pd\n",
    "import numpy as np\n",
    "import seaborn as sns\n",
    "import matplotlib.pyplot as plt\n",
    "from sklearn.preprocessing import RobustScaler,StandardScaler,PowerTransformer,QuantileTransformer,MinMaxScaler\n",
    "from imblearn.over_sampling import SMOTE, SVMSMOTE, SMOTENC, KMeansSMOTE, BorderlineSMOTE\n",
    "from imblearn.combine import SMOTEENN, SMOTETomek\n",
    "from imblearn.under_sampling import ClusterCentroids, AllKNN, NeighbourhoodCleaningRule, TomekLinks, RepeatedEditedNearestNeighbours\n",
    "from sklearn.decomposition import PCA\n",
    "from sklearn.ensemble import GradientBoostingClassifier\n",
    "from xgboost import XGBClassifier\n",
    "from imblearn.pipeline import Pipeline\n",
    "from sklearn.model_selection import GridSearchCV, RandomizedSearchCV\n",
    "from sklearn.metrics import accuracy_score, precision_score, f1_score, recall_score, confusion_matrix\n",
    "from sklearn.metrics import roc_curve, roc_auc_score, precision_recall_curve,f1_score"
   ]
  },
  {
   "cell_type": "markdown",
   "id": "protected-watson",
   "metadata": {},
   "source": [
    "## Loading the train and test data"
   ]
  },
  {
   "cell_type": "code",
   "execution_count": 2,
   "id": "forty-million",
   "metadata": {},
   "outputs": [],
   "source": [
    "df_train = pd.read_csv('csv_result-Descriptors_Training.csv', index_col='id', na_values=[-9999]).dropna()\n",
    "df_test = pd.read_csv('csv_result-Descriptors_Calibration.csv', index_col='id', na_values=[-9999]).dropna()"
   ]
  },
  {
   "cell_type": "code",
   "execution_count": 3,
   "id": "stock-politics",
   "metadata": {},
   "outputs": [
    {
     "data": {
      "text/html": [
       "<div>\n",
       "<style scoped>\n",
       "    .dataframe tbody tr th:only-of-type {\n",
       "        vertical-align: middle;\n",
       "    }\n",
       "\n",
       "    .dataframe tbody tr th {\n",
       "        vertical-align: top;\n",
       "    }\n",
       "\n",
       "    .dataframe thead th {\n",
       "        text-align: right;\n",
       "    }\n",
       "</style>\n",
       "<table border=\"1\" class=\"dataframe\">\n",
       "  <thead>\n",
       "    <tr style=\"text-align: right;\">\n",
       "      <th></th>\n",
       "      <th>IP_ES_25_N1</th>\n",
       "      <th>Z3_IB_4_N1</th>\n",
       "      <th>Z1_IB_10_N1</th>\n",
       "      <th>Z1_IB_5_N1</th>\n",
       "      <th>Z3_IB_8_N1</th>\n",
       "      <th>ECI_IB_4_N1</th>\n",
       "      <th>ECI_IB_5_N1</th>\n",
       "      <th>Gs(U)_IB_12_N1</th>\n",
       "      <th>Gs(U)_IB_68_N1</th>\n",
       "      <th>Gs(U)_IB_58_N1</th>\n",
       "      <th>...</th>\n",
       "      <th>Z3_NO_UCR_S</th>\n",
       "      <th>Z3_NO_UCR_N1</th>\n",
       "      <th>ECI_NO_UCR_CV</th>\n",
       "      <th>Pa_NO_BSR_SI71</th>\n",
       "      <th>ISA_NO_NPR_S</th>\n",
       "      <th>Z3_NO_NPR_V</th>\n",
       "      <th>IP_NO_PLR_S</th>\n",
       "      <th>Pb_NO_PCR_V</th>\n",
       "      <th>ECI_NO_PCR_CV</th>\n",
       "      <th>class</th>\n",
       "    </tr>\n",
       "    <tr>\n",
       "      <th>id</th>\n",
       "      <th></th>\n",
       "      <th></th>\n",
       "      <th></th>\n",
       "      <th></th>\n",
       "      <th></th>\n",
       "      <th></th>\n",
       "      <th></th>\n",
       "      <th></th>\n",
       "      <th></th>\n",
       "      <th></th>\n",
       "      <th></th>\n",
       "      <th></th>\n",
       "      <th></th>\n",
       "      <th></th>\n",
       "      <th></th>\n",
       "      <th></th>\n",
       "      <th></th>\n",
       "      <th></th>\n",
       "      <th></th>\n",
       "      <th></th>\n",
       "      <th></th>\n",
       "    </tr>\n",
       "  </thead>\n",
       "  <tbody>\n",
       "    <tr>\n",
       "      <th>1</th>\n",
       "      <td>5.59</td>\n",
       "      <td>14.91</td>\n",
       "      <td>13.69</td>\n",
       "      <td>6.45</td>\n",
       "      <td>12.11</td>\n",
       "      <td>28.79</td>\n",
       "      <td>32.40</td>\n",
       "      <td>0.06</td>\n",
       "      <td>0.09</td>\n",
       "      <td>0.04</td>\n",
       "      <td>...</td>\n",
       "      <td>0.69</td>\n",
       "      <td>23.12</td>\n",
       "      <td>0.64</td>\n",
       "      <td>0.76</td>\n",
       "      <td>-0.79</td>\n",
       "      <td>0.68</td>\n",
       "      <td>0.54</td>\n",
       "      <td>0.02</td>\n",
       "      <td>0.59</td>\n",
       "      <td>P</td>\n",
       "    </tr>\n",
       "    <tr>\n",
       "      <th>2</th>\n",
       "      <td>4.81</td>\n",
       "      <td>16.87</td>\n",
       "      <td>6.58</td>\n",
       "      <td>11.59</td>\n",
       "      <td>17.25</td>\n",
       "      <td>40.40</td>\n",
       "      <td>56.59</td>\n",
       "      <td>0.04</td>\n",
       "      <td>0.06</td>\n",
       "      <td>0.05</td>\n",
       "      <td>...</td>\n",
       "      <td>1.32</td>\n",
       "      <td>2.34</td>\n",
       "      <td>0.52</td>\n",
       "      <td>0.49</td>\n",
       "      <td>-1.27</td>\n",
       "      <td>1.39</td>\n",
       "      <td>-0.11</td>\n",
       "      <td>0.02</td>\n",
       "      <td>0.62</td>\n",
       "      <td>P</td>\n",
       "    </tr>\n",
       "    <tr>\n",
       "      <th>3</th>\n",
       "      <td>5.36</td>\n",
       "      <td>13.81</td>\n",
       "      <td>8.25</td>\n",
       "      <td>8.77</td>\n",
       "      <td>14.82</td>\n",
       "      <td>32.42</td>\n",
       "      <td>61.74</td>\n",
       "      <td>0.03</td>\n",
       "      <td>0.06</td>\n",
       "      <td>0.07</td>\n",
       "      <td>...</td>\n",
       "      <td>-0.69</td>\n",
       "      <td>-2.24</td>\n",
       "      <td>0.37</td>\n",
       "      <td>0.47</td>\n",
       "      <td>-0.74</td>\n",
       "      <td>2.03</td>\n",
       "      <td>0.58</td>\n",
       "      <td>0.01</td>\n",
       "      <td>0.56</td>\n",
       "      <td>P</td>\n",
       "    </tr>\n",
       "    <tr>\n",
       "      <th>4</th>\n",
       "      <td>6.10</td>\n",
       "      <td>73.66</td>\n",
       "      <td>6.41</td>\n",
       "      <td>11.14</td>\n",
       "      <td>37.36</td>\n",
       "      <td>38.26</td>\n",
       "      <td>55.93</td>\n",
       "      <td>0.04</td>\n",
       "      <td>0.19</td>\n",
       "      <td>0.06</td>\n",
       "      <td>...</td>\n",
       "      <td>1.50</td>\n",
       "      <td>2.44</td>\n",
       "      <td>0.40</td>\n",
       "      <td>0.44</td>\n",
       "      <td>-0.28</td>\n",
       "      <td>0.43</td>\n",
       "      <td>0.77</td>\n",
       "      <td>0.02</td>\n",
       "      <td>0.65</td>\n",
       "      <td>P</td>\n",
       "    </tr>\n",
       "    <tr>\n",
       "      <th>5</th>\n",
       "      <td>-2.00</td>\n",
       "      <td>16.41</td>\n",
       "      <td>8.51</td>\n",
       "      <td>7.07</td>\n",
       "      <td>30.95</td>\n",
       "      <td>50.22</td>\n",
       "      <td>39.52</td>\n",
       "      <td>0.05</td>\n",
       "      <td>0.05</td>\n",
       "      <td>0.04</td>\n",
       "      <td>...</td>\n",
       "      <td>1.88</td>\n",
       "      <td>7.72</td>\n",
       "      <td>0.42</td>\n",
       "      <td>0.50</td>\n",
       "      <td>-1.12</td>\n",
       "      <td>0.91</td>\n",
       "      <td>0.71</td>\n",
       "      <td>0.01</td>\n",
       "      <td>0.65</td>\n",
       "      <td>P</td>\n",
       "    </tr>\n",
       "  </tbody>\n",
       "</table>\n",
       "<p>5 rows × 29 columns</p>\n",
       "</div>"
      ],
      "text/plain": [
       "    IP_ES_25_N1  Z3_IB_4_N1  Z1_IB_10_N1  Z1_IB_5_N1  Z3_IB_8_N1  ECI_IB_4_N1  \\\n",
       "id                                                                              \n",
       "1          5.59       14.91        13.69        6.45       12.11        28.79   \n",
       "2          4.81       16.87         6.58       11.59       17.25        40.40   \n",
       "3          5.36       13.81         8.25        8.77       14.82        32.42   \n",
       "4          6.10       73.66         6.41       11.14       37.36        38.26   \n",
       "5         -2.00       16.41         8.51        7.07       30.95        50.22   \n",
       "\n",
       "    ECI_IB_5_N1  Gs(U)_IB_12_N1  Gs(U)_IB_68_N1  Gs(U)_IB_58_N1  ...  \\\n",
       "id                                                               ...   \n",
       "1         32.40            0.06            0.09            0.04  ...   \n",
       "2         56.59            0.04            0.06            0.05  ...   \n",
       "3         61.74            0.03            0.06            0.07  ...   \n",
       "4         55.93            0.04            0.19            0.06  ...   \n",
       "5         39.52            0.05            0.05            0.04  ...   \n",
       "\n",
       "    Z3_NO_UCR_S  Z3_NO_UCR_N1  ECI_NO_UCR_CV  Pa_NO_BSR_SI71  ISA_NO_NPR_S  \\\n",
       "id                                                                           \n",
       "1          0.69         23.12           0.64            0.76         -0.79   \n",
       "2          1.32          2.34           0.52            0.49         -1.27   \n",
       "3         -0.69         -2.24           0.37            0.47         -0.74   \n",
       "4          1.50          2.44           0.40            0.44         -0.28   \n",
       "5          1.88          7.72           0.42            0.50         -1.12   \n",
       "\n",
       "    Z3_NO_NPR_V  IP_NO_PLR_S  Pb_NO_PCR_V  ECI_NO_PCR_CV  class  \n",
       "id                                                               \n",
       "1          0.68         0.54         0.02           0.59      P  \n",
       "2          1.39        -0.11         0.02           0.62      P  \n",
       "3          2.03         0.58         0.01           0.56      P  \n",
       "4          0.43         0.77         0.02           0.65      P  \n",
       "5          0.91         0.71         0.01           0.65      P  \n",
       "\n",
       "[5 rows x 29 columns]"
      ]
     },
     "execution_count": 3,
     "metadata": {},
     "output_type": "execute_result"
    }
   ],
   "source": [
    "df_train.head()"
   ]
  },
  {
   "cell_type": "code",
   "execution_count": 4,
   "id": "congressional-extra",
   "metadata": {},
   "outputs": [],
   "source": [
    "def get_info(df):\n",
    "    print(f'Number of Rows in the data    : {df.shape[0]}')\n",
    "    print(f'Number of Columns in the data : {df.shape[1]}')\n",
    "    print(f'Number of P samples : {df[\"class\"].value_counts()[\"P\"]}')\n",
    "    print(f'Number of N samples : {df[\"class\"].value_counts()[\"N\"]}')\n",
    "    print(f'Ratio of P:N in data : {df[\"class\"].value_counts()[\"P\"]/df[\"class\"].value_counts()[\"N\"]}')"
   ]
  },
  {
   "cell_type": "code",
   "execution_count": 5,
   "id": "retired-station",
   "metadata": {},
   "outputs": [
    {
     "name": "stdout",
     "output_type": "stream",
     "text": [
      "Number of Rows in the data    : 19920\n",
      "Number of Columns in the data : 29\n",
      "Number of P samples : 1125\n",
      "Number of N samples : 18795\n",
      "Ratio of P:N in data : 0.05985634477254589\n"
     ]
    }
   ],
   "source": [
    "get_info(df_train)"
   ]
  },
  {
   "cell_type": "code",
   "execution_count": 6,
   "id": "thick-jesus",
   "metadata": {},
   "outputs": [
    {
     "name": "stdout",
     "output_type": "stream",
     "text": [
      "Number of Rows in the data    : 4979\n",
      "Number of Columns in the data : 29\n",
      "Number of P samples : 281\n",
      "Number of N samples : 4698\n",
      "Ratio of P:N in data : 0.05981268624946786\n"
     ]
    }
   ],
   "source": [
    "get_info(df_test)"
   ]
  },
  {
   "cell_type": "code",
   "execution_count": 7,
   "id": "charitable-material",
   "metadata": {},
   "outputs": [],
   "source": [
    "x_cols = df_train.columns.difference({'class'})"
   ]
  },
  {
   "cell_type": "code",
   "execution_count": 8,
   "id": "written-acrobat",
   "metadata": {},
   "outputs": [
    {
     "data": {
      "text/plain": [
       "Index(['ECI_IB_4_N1', 'ECI_IB_5_N1', 'ECI_NO_PCR_CV', 'ECI_NO_UCR_CV',\n",
       "       'Gs(U)_IB_12_N1', 'Gs(U)_IB_58_N1', 'Gs(U)_IB_60_N1', 'Gs(U)_IB_68_N1',\n",
       "       'Gs(U)_NO_ALR_SI71', 'HP_NO_sideL35_CV', 'IP_ES_25_N1', 'IP_NO_PLR_S',\n",
       "       'IP_NO_sideL35_SI71', 'ISA_NO_NPR_S', 'Pa_NO_BSR_SI71', 'Pb_NO_PCR_V',\n",
       "       'Pb_NO_sideR35_S', 'Z1_IB_10_N1', 'Z1_IB_5_N1', 'Z1_NO_PRT_CV',\n",
       "       'Z1_NO_sideL35_M', 'Z1_NO_sideR35_CV', 'Z2_NO_AHR_CV', 'Z3_IB_4_N1',\n",
       "       'Z3_IB_8_N1', 'Z3_NO_NPR_V', 'Z3_NO_UCR_N1', 'Z3_NO_UCR_S'],\n",
       "      dtype='object')"
      ]
     },
     "execution_count": 8,
     "metadata": {},
     "output_type": "execute_result"
    }
   ],
   "source": [
    "x_cols"
   ]
  },
  {
   "cell_type": "markdown",
   "id": "collectible-embassy",
   "metadata": {},
   "source": [
    "## Preprocessing the dataset"
   ]
  },
  {
   "cell_type": "code",
   "execution_count": 9,
   "id": "equipped-inspector",
   "metadata": {},
   "outputs": [],
   "source": [
    "def label_class(df_tr, df_te):\n",
    "    d = {'P':1, 'N':0}\n",
    "    return df_tr.map(d), df_te.map(d)"
   ]
  },
  {
   "cell_type": "code",
   "execution_count": 10,
   "id": "surgical-maintenance",
   "metadata": {},
   "outputs": [],
   "source": [
    "df_train.loc[:, 'class'], df_test.loc[:, 'class'] = label_class(df_train.loc[:, 'class'], df_test.loc[:, 'class'])"
   ]
  },
  {
   "cell_type": "code",
   "execution_count": 28,
   "id": "racial-netscape",
   "metadata": {},
   "outputs": [],
   "source": [
    "def performance_model(y_org, y_pred):\n",
    "    print(f'Precision : {precision_score(y_org, y_pred)}')\n",
    "    print(f'Recall    : {recall_score(y_org, y_pred)}')\n",
    "    print(f'F1 Score  : {f1_score(y_org, y_pred)}')\n",
    "    print(f'Confusion :\\n {confusion_matrix(y_org, y_pred)}')"
   ]
  },
  {
   "cell_type": "code",
   "execution_count": 67,
   "id": "unexpected-czech",
   "metadata": {},
   "outputs": [],
   "source": [
    "def pr_curve(y_org, y_pred):\n",
    "    lr_precision, lr_recall, _ = precision_recall_curve(y_org, y_pred)\n",
    "    # plot the precision-recall curves\n",
    "    plt.plot(lr_recall, lr_precision, label='precision recall curve')\n",
    "    # axis labels\n",
    "    plt.xlabel('Recall')\n",
    "    plt.ylabel('Precision')\n",
    "    plt.ylim([-0.01,1.01])\n",
    "    #plt.yticks(np.arange(0,11,1)/10)\n",
    "    plt.xlim([-0.01,1.01])\n",
    "    #plt.xticks(np.arange(0,11,1)/10)\n",
    "    # show the legend\n",
    "    plt.legend()\n",
    "    plt.grid()\n",
    "    #plt.savefig('q2 precision recall curve',dpi=100)\n",
    "    plt.show()"
   ]
  },
  {
   "cell_type": "markdown",
   "id": "limited-routine",
   "metadata": {},
   "source": [
    "## Boosting algorithms"
   ]
  },
  {
   "cell_type": "code",
   "execution_count": 11,
   "id": "responsible-intelligence",
   "metadata": {},
   "outputs": [],
   "source": [
    "learning_rate=[0.1, 0.01, 0.05]\n",
    "n_estimators = [int(x) for x in np.linspace(start = 200, stop = 2000, num = 10)]\n",
    "max_features = ['auto', 'sqrt', 'log2']\n",
    "criterion=['friedman_mse', 'mse']\n",
    "max_depth = [int(x) for x in np.linspace(10, 110, num = 11)]+[None]\n",
    "min_samples_split = [2, 5, 10]\n",
    "min_samples_leaf = [1, 2, 4]"
   ]
  },
  {
   "cell_type": "code",
   "execution_count": 12,
   "id": "increasing-firmware",
   "metadata": {},
   "outputs": [],
   "source": [
    "param_grid = {\n",
    "    'pca__n_components': [5, 10, 15, 20, 25],\n",
    "    'gbc__learning_rate':learning_rate,\n",
    "    'gbc__n_estimators': n_estimators,\n",
    "    'gbc__max_features': max_features,\n",
    "    'gbc__criterion':criterion,\n",
    "    'gbc__max_depth': max_depth,\n",
    "    'gbc__min_samples_split': min_samples_split,\n",
    "    'gbc__min_samples_leaf': min_samples_leaf,\n",
    "}"
   ]
  },
  {
   "cell_type": "markdown",
   "id": "adopted-underwear",
   "metadata": {},
   "source": [
    "## Sklearn pipeline"
   ]
  },
  {
   "cell_type": "code",
   "execution_count": 17,
   "id": "palestinian-machinery",
   "metadata": {},
   "outputs": [],
   "source": [
    "pca = PCA()\n",
    "rbs = RobustScaler()\n",
    "gbc = GradientBoostingClassifier(validation_fraction=0.1, verbose=1)\n",
    "sme = SMOTEENN(sampling_strategy=0.3)\n",
    "pipe = Pipeline(steps=[('rbs',rbs), ('pca', pca), ('sme', sme), ('gbc', gbc)])"
   ]
  },
  {
   "cell_type": "code",
   "execution_count": 18,
   "id": "hollow-geometry",
   "metadata": {},
   "outputs": [
    {
     "name": "stdout",
     "output_type": "stream",
     "text": [
      "      Iter       Train Loss   Remaining Time \n",
      "         1           1.0904            1.54m\n",
      "         2           1.0712            1.60m\n",
      "         3           1.0526            1.60m\n",
      "         4           1.0346            1.61m\n",
      "         5           1.0171            1.67m\n",
      "         6           1.0002            1.64m\n",
      "         7           0.9837            1.71m\n",
      "         8           0.9677            1.67m\n",
      "         9           0.9522            1.65m\n",
      "        10           0.9371            1.64m\n",
      "        20           0.8051            1.62m\n",
      "        30           0.6994            1.57m\n",
      "        40           0.6123            1.52m\n",
      "        50           0.5391            1.48m\n",
      "        60           0.4767            1.45m\n",
      "        70           0.4229            1.40m\n",
      "        80           0.3763            1.35m\n",
      "        90           0.3355            1.30m\n",
      "       100           0.2997            1.25m\n",
      "       200           0.1029           50.10s\n",
      "       300           0.0370           24.90s\n",
      "       400           0.0135            0.00s\n"
     ]
    },
    {
     "data": {
      "text/plain": [
       "RandomizedSearchCV(estimator=Pipeline(steps=[('rbs', RobustScaler()),\n",
       "                                             ('pca', PCA()),\n",
       "                                             ('sme',\n",
       "                                              SMOTEENN(sampling_strategy=0.3)),\n",
       "                                             ('gbc',\n",
       "                                              GradientBoostingClassifier(verbose=1))]),\n",
       "                   n_jobs=-1,\n",
       "                   param_distributions={'gbc__criterion': ['friedman_mse',\n",
       "                                                           'mse'],\n",
       "                                        'gbc__learning_rate': [0.1, 0.01, 0.05],\n",
       "                                        'gbc__max_depth': [10, 20, 30, 40, 50,\n",
       "                                                           60, 70, 80, 90, 100,\n",
       "                                                           110, None],\n",
       "                                        'gbc__max_features': ['auto', 'sqrt',\n",
       "                                                              'log2'],\n",
       "                                        'gbc__min_samples_leaf': [1, 2, 4],\n",
       "                                        'gbc__min_samples_split': [2, 5, 10],\n",
       "                                        'gbc__n_estimators': [200, 400, 600,\n",
       "                                                              800, 1000, 1200,\n",
       "                                                              1400, 1600, 1800,\n",
       "                                                              2000],\n",
       "                                        'pca__n_components': [5, 10, 15, 20,\n",
       "                                                              25]},\n",
       "                   scoring='f1')"
      ]
     },
     "execution_count": 18,
     "metadata": {},
     "output_type": "execute_result"
    }
   ],
   "source": [
    "search = RandomizedSearchCV(pipe, param_grid, n_jobs=-1, scoring='f1')\n",
    "search.fit(df_train.drop('class', axis=1), df_train.loc[:, 'class'])"
   ]
  },
  {
   "cell_type": "code",
   "execution_count": 19,
   "id": "sapphire-aquarium",
   "metadata": {},
   "outputs": [
    {
     "name": "stdout",
     "output_type": "stream",
     "text": [
      "Best parameter (CV score=0.095):\n",
      "{'pca__n_components': 10, 'gbc__n_estimators': 400, 'gbc__min_samples_split': 2, 'gbc__min_samples_leaf': 1, 'gbc__max_features': 'auto', 'gbc__max_depth': 80, 'gbc__learning_rate': 0.01, 'gbc__criterion': 'friedman_mse'}\n"
     ]
    }
   ],
   "source": [
    "print(\"Best parameter (CV score=%0.3f):\" % search.best_score_)\n",
    "print(search.best_params_)"
   ]
  },
  {
   "cell_type": "code",
   "execution_count": 31,
   "id": "atomic-penguin",
   "metadata": {},
   "outputs": [],
   "source": [
    "ypred = search.predict_proba(df_test.drop('class', axis=1))"
   ]
  },
  {
   "cell_type": "code",
   "execution_count": 34,
   "id": "hydraulic-tradition",
   "metadata": {},
   "outputs": [
    {
     "name": "stdout",
     "output_type": "stream",
     "text": [
      "Precision : 0.06430446194225722\n",
      "Recall    : 0.17437722419928825\n",
      "F1 Score  : 0.09395973154362416\n",
      "Confusion :\n",
      " [[3985  713]\n",
      " [ 232   49]]\n"
     ]
    }
   ],
   "source": [
    "performance_model(df_test['class'], ypred.argmax(1))"
   ]
  },
  {
   "cell_type": "code",
   "execution_count": 43,
   "id": "lucky-jurisdiction",
   "metadata": {},
   "outputs": [
    {
     "data": {
      "image/png": "[encoded data removed]",
      "text/plain": [
       "<Figure size 432x288 with 1 Axes>"
      ]
     },
     "metadata": {
      "needs_background": "light"
     },
     "output_type": "display_data"
    }
   ],
   "source": [
    "pr_curve(df_test['class'], ypred[:,1])"
   ]
  },
  {
   "cell_type": "markdown",
   "id": "welsh-affiliate",
   "metadata": {},
   "source": [
    "## Experiment 2 ##system hangs don't run"
   ]
  },
  {
   "cell_type": "code",
   "execution_count": 15,
   "id": "checked-ocean",
   "metadata": {},
   "outputs": [],
   "source": [
    "param_grid = {\n",
    "    'gbc__learning_rate':learning_rate,\n",
    "    'gbc__n_estimators': n_estimators,\n",
    "    'gbc__max_features': max_features,\n",
    "    'gbc__criterion':criterion,\n",
    "    'gbc__max_depth': max_depth,\n",
    "    'gbc__min_samples_split': min_samples_split,\n",
    "    'gbc__min_samples_leaf': min_samples_leaf,\n",
    "}"
   ]
  },
  {
   "cell_type": "code",
   "execution_count": 16,
   "id": "stock-spelling",
   "metadata": {},
   "outputs": [],
   "source": [
    "pca = PCA()\n",
    "rbs = RobustScaler()\n",
    "gbc = GradientBoostingClassifier(validation_fraction=0.1, verbose=1)\n",
    "sme = SMOTEENN(sampling_strategy=0.3)\n",
    "pipe = Pipeline(steps=[('rbs',rbs), ('sme', sme), ('gbc', gbc)])"
   ]
  },
  {
   "cell_type": "code",
   "execution_count": null,
   "id": "institutional-memphis",
   "metadata": {},
   "outputs": [
    {
     "name": "stdout",
     "output_type": "stream",
     "text": [
      "Fitting 5 folds for each of 10 candidates, totalling 50 fits\n"
     ]
    }
   ],
   "source": [
    "search = RandomizedSearchCV(pipe, param_grid, n_jobs=-1, scoring='f1', verbose=1)\n",
    "search.fit(df_train.drop('class', axis=1), df_train.loc[:, 'class'])"
   ]
  },
  {
   "cell_type": "code",
   "execution_count": null,
   "id": "royal-candy",
   "metadata": {},
   "outputs": [],
   "source": [
    "print(\"Best parameter (CV score=%0.3f):\" % search.best_score_)\n",
    "print(search.best_params_)"
   ]
  },
  {
   "cell_type": "code",
   "execution_count": 31,
   "id": "apparent-sitting",
   "metadata": {},
   "outputs": [],
   "source": [
    "ypred = search.predict_proba(df_test.drop('class', axis=1))"
   ]
  },
  {
   "cell_type": "code",
   "execution_count": 34,
   "id": "muslim-experience",
   "metadata": {},
   "outputs": [
    {
     "name": "stdout",
     "output_type": "stream",
     "text": [
      "Precision : 0.06430446194225722\n",
      "Recall    : 0.17437722419928825\n",
      "F1 Score  : 0.09395973154362416\n",
      "Confusion :\n",
      " [[3985  713]\n",
      " [ 232   49]]\n"
     ]
    }
   ],
   "source": [
    "performance_model(df_test['class'], ypred.argmax(1))"
   ]
  },
  {
   "cell_type": "markdown",
   "id": "searching-duration",
   "metadata": {},
   "source": [
    "## Experiment 3"
   ]
  },
  {
   "cell_type": "code",
   "execution_count": 13,
   "id": "engaged-background",
   "metadata": {},
   "outputs": [],
   "source": [
    "param_grid = {\n",
    "    'gbc__learning_rate':learning_rate,\n",
    "    'gbc__n_estimators': n_estimators,\n",
    "    'gbc__max_features': max_features,\n",
    "    'gbc__criterion':criterion,\n",
    "    'gbc__max_depth': max_depth,\n",
    "    'gbc__min_samples_split': min_samples_split,\n",
    "    'gbc__min_samples_leaf': min_samples_leaf,\n",
    "}"
   ]
  },
  {
   "cell_type": "code",
   "execution_count": 14,
   "id": "second-register",
   "metadata": {},
   "outputs": [],
   "source": [
    "pca = PCA()\n",
    "rbs = RobustScaler()\n",
    "gbc = GradientBoostingClassifier(validation_fraction=0.1, verbose=1)\n",
    "cc = ClusterCentroids(sampling_strategy=0.3)\n",
    "pipe = Pipeline(steps=[('rbs',rbs), ('cc', cc), ('gbc', gbc)])"
   ]
  },
  {
   "cell_type": "code",
   "execution_count": 15,
   "id": "eight-portsmouth",
   "metadata": {},
   "outputs": [
    {
     "name": "stdout",
     "output_type": "stream",
     "text": [
      "Fitting 5 folds for each of 10 candidates, totalling 50 fits\n"
     ]
    },
    {
     "name": "stderr",
     "output_type": "stream",
     "text": [
      "C:\\Users\\kadap\\anaconda3\\envs\\python3\\lib\\site-packages\\imblearn\\under_sampling\\_prototype_generation\\_cluster_centroids.py:172: ConvergenceWarning: Number of distinct clusters (3664) found smaller than n_clusters (3750). Possibly due to duplicate points in X.\n",
      "  self.estimator_.fit(_safe_indexing(X, target_class_indices))\n"
     ]
    },
    {
     "name": "stdout",
     "output_type": "stream",
     "text": [
      "      Iter       Train Loss   Remaining Time \n",
      "         1           1.0669           16.25s\n",
      "         2           1.0535           15.65s\n",
      "         3           1.0405           15.69s\n",
      "         4           1.0276           15.69s\n",
      "         5           1.0150           15.91s\n",
      "         6           1.0027           16.19s\n",
      "         7           0.9906           16.54s\n",
      "         8           0.9788           16.50s\n",
      "         9           0.9672           16.45s\n",
      "        10           0.9560           16.47s\n",
      "        20           0.8531           15.82s\n",
      "        30           0.7665           15.26s\n",
      "        40           0.6927           14.83s\n",
      "        50           0.6280           14.40s\n",
      "        60           0.5714           14.01s\n",
      "        70           0.5210           13.59s\n",
      "        80           0.4755           13.16s\n",
      "        90           0.4350           12.76s\n",
      "       100           0.3985           12.33s\n",
      "       200           0.1741            8.24s\n",
      "       300           0.0791            4.12s\n",
      "       400           0.0365            0.00s\n"
     ]
    },
    {
     "data": {
      "text/plain": [
       "RandomizedSearchCV(estimator=Pipeline(steps=[('rbs', RobustScaler()),\n",
       "                                             ('cc',\n",
       "                                              ClusterCentroids(sampling_strategy=0.3)),\n",
       "                                             ('gbc',\n",
       "                                              GradientBoostingClassifier(verbose=1))]),\n",
       "                   n_jobs=-1,\n",
       "                   param_distributions={'gbc__criterion': ['friedman_mse',\n",
       "                                                           'mse'],\n",
       "                                        'gbc__learning_rate': [0.1, 0.01, 0.05],\n",
       "                                        'gbc__max_depth': [10, 20, 30, 40, 50,\n",
       "                                                           60, 70, 80, 90, 100,\n",
       "                                                           110, None],\n",
       "                                        'gbc__max_features': ['auto', 'sqrt',\n",
       "                                                              'log2'],\n",
       "                                        'gbc__min_samples_leaf': [1, 2, 4],\n",
       "                                        'gbc__min_samples_split': [2, 5, 10],\n",
       "                                        'gbc__n_estimators': [200, 400, 600,\n",
       "                                                              800, 1000, 1200,\n",
       "                                                              1400, 1600, 1800,\n",
       "                                                              2000]},\n",
       "                   scoring='f1', verbose=1)"
      ]
     },
     "execution_count": 15,
     "metadata": {},
     "output_type": "execute_result"
    }
   ],
   "source": [
    "search = RandomizedSearchCV(pipe, param_grid, n_jobs=-1, scoring='f1', verbose=1)\n",
    "search.fit(df_train.drop('class', axis=1), df_train.loc[:, 'class'])"
   ]
  },
  {
   "cell_type": "code",
   "execution_count": 16,
   "id": "whole-president",
   "metadata": {},
   "outputs": [
    {
     "name": "stdout",
     "output_type": "stream",
     "text": [
      "Best parameter (CV score=0.132):\n",
      "{'gbc__n_estimators': 400, 'gbc__min_samples_split': 5, 'gbc__min_samples_leaf': 4, 'gbc__max_features': 'sqrt', 'gbc__max_depth': 80, 'gbc__learning_rate': 0.01, 'gbc__criterion': 'mse'}\n"
     ]
    }
   ],
   "source": [
    "print(\"Best parameter (CV score=%0.3f):\" % search.best_score_)\n",
    "print(search.best_params_)"
   ]
  },
  {
   "cell_type": "code",
   "execution_count": 17,
   "id": "rising-moore",
   "metadata": {},
   "outputs": [],
   "source": [
    "ypred = search.predict_proba(df_test.drop('class', axis=1))"
   ]
  },
  {
   "cell_type": "code",
   "execution_count": 19,
   "id": "equipped-cosmetic",
   "metadata": {},
   "outputs": [
    {
     "name": "stdout",
     "output_type": "stream",
     "text": [
      "Precision : 0.07430997876857749\n",
      "Recall    : 0.498220640569395\n",
      "F1 Score  : 0.12933025404157042\n",
      "Confusion :\n",
      " [[2954 1744]\n",
      " [ 141  140]]\n"
     ]
    }
   ],
   "source": [
    "performance_model(df_test['class'], ypred[:1])"
   ]
  },
  {
   "cell_type": "code",
   "execution_count": 22,
   "id": "heated-laptop",
   "metadata": {},
   "outputs": [
    {
     "data": {
      "image/png": "[encoded data removed]",
      "text/plain": [
       "<Figure size 432x288 with 1 Axes>"
      ]
     },
     "metadata": {
      "needs_background": "light"
     },
     "output_type": "display_data"
    }
   ],
   "source": [
    "pr_curve(df_test['class'], ypred[:,1])"
   ]
  },
  {
   "cell_type": "markdown",
   "id": "descending-rental",
   "metadata": {},
   "source": [
    "### Experiment 4"
   ]
  },
  {
   "cell_type": "code",
   "execution_count": 14,
   "id": "fifteen-structure",
   "metadata": {},
   "outputs": [],
   "source": [
    "param_grid = {\n",
    "    'gbc__learning_rate':learning_rate,\n",
    "    'gbc__n_estimators': n_estimators,\n",
    "    'gbc__max_features': max_features,\n",
    "    'gbc__criterion':criterion,\n",
    "    'gbc__max_depth': max_depth,\n",
    "    'gbc__min_samples_split': min_samples_split,\n",
    "    'gbc__min_samples_leaf': min_samples_leaf,\n",
    "}"
   ]
  },
  {
   "cell_type": "code",
   "execution_count": 15,
   "id": "brave-imaging",
   "metadata": {},
   "outputs": [],
   "source": [
    "pt = PowerTransformer()\n",
    "gbc = GradientBoostingClassifier(validation_fraction=0.1, verbose=1)\n",
    "ss = SVMSMOTE(sampling_strategy=0.3)\n",
    "pipe = Pipeline(steps=[('pt',pt), ('ss', ss), ('gbc', gbc)])"
   ]
  },
  {
   "cell_type": "code",
   "execution_count": 16,
   "id": "golden-third",
   "metadata": {},
   "outputs": [
    {
     "name": "stdout",
     "output_type": "stream",
     "text": [
      "Fitting 5 folds for each of 10 candidates, totalling 50 fits\n",
      "      Iter       Train Loss   Remaining Time \n",
      "         1           0.9478           11.60m\n",
      "         2           0.9302           11.03m\n",
      "         3           0.9132           10.39m\n",
      "         4           0.8969           10.67m\n",
      "         5           0.8813           10.78m\n",
      "         6           0.8662           10.75m\n",
      "         7           0.8516           10.85m\n",
      "         8           0.8374           10.81m\n",
      "         9           0.8238           10.95m\n",
      "        10           0.8106           11.01m\n",
      "        20           0.6967           12.32m\n",
      "        30           0.6070           12.81m\n",
      "        40           0.5335           13.14m\n",
      "        50           0.4717           13.43m\n",
      "        60           0.4191           13.55m\n",
      "        70           0.3737           13.64m\n",
      "        80           0.3341           13.60m\n",
      "        90           0.2993           13.63m\n",
      "       100           0.2688           13.75m\n",
      "       200           0.0970           12.58m\n",
      "       300           0.0368           11.08m\n",
      "       400           0.0141            9.49m\n",
      "       500           0.0055            7.94m\n",
      "       600           0.0021            6.40m\n",
      "       700           0.0008            4.83m\n",
      "       800           0.0003            3.26m\n",
      "       900           0.0001            1.65m\n",
      "      1000           0.0000            0.00s\n"
     ]
    },
    {
     "data": {
      "text/plain": [
       "RandomizedSearchCV(estimator=Pipeline(steps=[('pt', PowerTransformer()),\n",
       "                                             ('ss',\n",
       "                                              SVMSMOTE(sampling_strategy=0.3)),\n",
       "                                             ('gbc',\n",
       "                                              GradientBoostingClassifier(verbose=1))]),\n",
       "                   n_jobs=-1,\n",
       "                   param_distributions={'gbc__criterion': ['friedman_mse',\n",
       "                                                           'mse'],\n",
       "                                        'gbc__learning_rate': [0.1, 0.01, 0.05],\n",
       "                                        'gbc__max_depth': [10, 20, 30, 40, 50,\n",
       "                                                           60, 70, 80, 90, 100,\n",
       "                                                           110, None],\n",
       "                                        'gbc__max_features': ['auto', 'sqrt',\n",
       "                                                              'log2'],\n",
       "                                        'gbc__min_samples_leaf': [1, 2, 4],\n",
       "                                        'gbc__min_samples_split': [2, 5, 10],\n",
       "                                        'gbc__n_estimators': [200, 400, 600,\n",
       "                                                              800, 1000, 1200,\n",
       "                                                              1400, 1600, 1800,\n",
       "                                                              2000]},\n",
       "                   scoring='f1', verbose=1)"
      ]
     },
     "execution_count": 16,
     "metadata": {},
     "output_type": "execute_result"
    }
   ],
   "source": [
    "search = RandomizedSearchCV(pipe, param_grid, n_jobs=-1, scoring='f1', verbose=1)\n",
    "search.fit(df_train.drop('class', axis=1), df_train.loc[:, 'class'])"
   ]
  },
  {
   "cell_type": "code",
   "execution_count": 17,
   "id": "animated-reggae",
   "metadata": {},
   "outputs": [
    {
     "name": "stdout",
     "output_type": "stream",
     "text": [
      "Best parameter (CV score={'mean_fit_time': array([1220.04931464, 2871.30550995,  880.05856171, 4421.46850591,\n",
      "       1423.02019715,  678.09222574,  502.61419668, 1316.79909534,\n",
      "        546.86767473,  284.97295547]), 'std_fit_time': array([ 16.96303688, 109.39404322,  27.39565903, 174.29573676,\n",
      "        37.79316507,  15.17662101,  13.16151073,  49.04236474,\n",
      "        28.37489252,  30.63802055]), 'mean_score_time': array([2.71075301, 2.74685631, 2.51068764, 5.96266818, 1.59254231,\n",
      "       0.47453136, 1.43296895, 2.09947276, 1.2253221 , 0.55592895]), 'std_score_time': array([0.26192174, 0.10918962, 0.12543427, 0.97645487, 0.12170308,\n",
      "       0.02517853, 0.12993747, 0.24120273, 0.15217565, 0.11115226]), 'param_gbc__n_estimators': masked_array(data=[1800, 2000, 2000, 2000, 1000, 1400, 1200, 1600, 1200,\n",
      "                   600],\n",
      "             mask=[False, False, False, False, False, False, False, False,\n",
      "                   False, False],\n",
      "       fill_value='?',\n",
      "            dtype=object), 'param_gbc__min_samples_split': masked_array(data=[5, 10, 10, 10, 5, 2, 10, 2, 2, 5],\n",
      "             mask=[False, False, False, False, False, False, False, False,\n",
      "                   False, False],\n",
      "       fill_value='?',\n",
      "            dtype=object), 'param_gbc__min_samples_leaf': masked_array(data=[1, 4, 4, 2, 2, 1, 2, 1, 4, 2],\n",
      "             mask=[False, False, False, False, False, False, False, False,\n",
      "                   False, False],\n",
      "       fill_value='?',\n",
      "            dtype=object), 'param_gbc__max_features': masked_array(data=['log2', 'auto', 'sqrt', 'auto', 'auto', 'auto', 'log2',\n",
      "                   'log2', 'log2', 'log2'],\n",
      "             mask=[False, False, False, False, False, False, False, False,\n",
      "                   False, False],\n",
      "       fill_value='?',\n",
      "            dtype=object), 'param_gbc__max_depth': masked_array(data=[50, None, 100, 100, 40, 10, 60, 20, 60, 20],\n",
      "             mask=[False, False, False, False, False, False, False, False,\n",
      "                   False, False],\n",
      "       fill_value='?',\n",
      "            dtype=object), 'param_gbc__learning_rate': masked_array(data=[0.05, 0.01, 0.05, 0.05, 0.01, 0.1, 0.1, 0.05, 0.01,\n",
      "                   0.01],\n",
      "             mask=[False, False, False, False, False, False, False, False,\n",
      "                   False, False],\n",
      "       fill_value='?',\n",
      "            dtype=object), 'param_gbc__criterion': masked_array(data=['friedman_mse', 'friedman_mse', 'mse', 'mse', 'mse',\n",
      "                   'mse', 'friedman_mse', 'friedman_mse', 'friedman_mse',\n",
      "                   'mse'],\n",
      "             mask=[False, False, False, False, False, False, False, False,\n",
      "                   False, False],\n",
      "       fill_value='?',\n",
      "            dtype=object), 'params': [{'gbc__n_estimators': 1800, 'gbc__min_samples_split': 5, 'gbc__min_samples_leaf': 1, 'gbc__max_features': 'log2', 'gbc__max_depth': 50, 'gbc__learning_rate': 0.05, 'gbc__criterion': 'friedman_mse'}, {'gbc__n_estimators': 2000, 'gbc__min_samples_split': 10, 'gbc__min_samples_leaf': 4, 'gbc__max_features': 'auto', 'gbc__max_depth': None, 'gbc__learning_rate': 0.01, 'gbc__criterion': 'friedman_mse'}, {'gbc__n_estimators': 2000, 'gbc__min_samples_split': 10, 'gbc__min_samples_leaf': 4, 'gbc__max_features': 'sqrt', 'gbc__max_depth': 100, 'gbc__learning_rate': 0.05, 'gbc__criterion': 'mse'}, {'gbc__n_estimators': 2000, 'gbc__min_samples_split': 10, 'gbc__min_samples_leaf': 2, 'gbc__max_features': 'auto', 'gbc__max_depth': 100, 'gbc__learning_rate': 0.05, 'gbc__criterion': 'mse'}, {'gbc__n_estimators': 1000, 'gbc__min_samples_split': 5, 'gbc__min_samples_leaf': 2, 'gbc__max_features': 'auto', 'gbc__max_depth': 40, 'gbc__learning_rate': 0.01, 'gbc__criterion': 'mse'}, {'gbc__n_estimators': 1400, 'gbc__min_samples_split': 2, 'gbc__min_samples_leaf': 1, 'gbc__max_features': 'auto', 'gbc__max_depth': 10, 'gbc__learning_rate': 0.1, 'gbc__criterion': 'mse'}, {'gbc__n_estimators': 1200, 'gbc__min_samples_split': 10, 'gbc__min_samples_leaf': 2, 'gbc__max_features': 'log2', 'gbc__max_depth': 60, 'gbc__learning_rate': 0.1, 'gbc__criterion': 'friedman_mse'}, {'gbc__n_estimators': 1600, 'gbc__min_samples_split': 2, 'gbc__min_samples_leaf': 1, 'gbc__max_features': 'log2', 'gbc__max_depth': 20, 'gbc__learning_rate': 0.05, 'gbc__criterion': 'friedman_mse'}, {'gbc__n_estimators': 1200, 'gbc__min_samples_split': 2, 'gbc__min_samples_leaf': 4, 'gbc__max_features': 'log2', 'gbc__max_depth': 60, 'gbc__learning_rate': 0.01, 'gbc__criterion': 'friedman_mse'}, {'gbc__n_estimators': 600, 'gbc__min_samples_split': 5, 'gbc__min_samples_leaf': 2, 'gbc__max_features': 'log2', 'gbc__max_depth': 20, 'gbc__learning_rate': 0.01, 'gbc__criterion': 'mse'}], 'split0_test_score': array([0.        , 0.        , 0.        , 0.        , 0.02469136,\n",
      "       0.00865801, 0.        , 0.        , 0.00881057, 0.00881057]), 'split1_test_score': array([0.        , 0.        , 0.        , 0.        , 0.02459016,\n",
      "       0.01724138, 0.        , 0.        , 0.        , 0.        ]), 'split2_test_score': array([0.        , 0.        , 0.        , 0.        , 0.00854701,\n",
      "       0.00884956, 0.        , 0.        , 0.        , 0.        ]), 'split3_test_score': array([0.        , 0.00873362, 0.        , 0.        , 0.03375527,\n",
      "       0.        , 0.        , 0.        , 0.        , 0.        ]), 'split4_test_score': array([0.        , 0.00865801, 0.        , 0.00884956, 0.04780876,\n",
      "       0.01746725, 0.        , 0.        , 0.00865801, 0.00869565]), 'mean_test_score': array([0.        , 0.00347833, 0.        , 0.00176991, 0.02787851,\n",
      "       0.01044324, 0.        , 0.        , 0.00349372, 0.00350124]), 'std_test_score': array([0.        , 0.00426013, 0.        , 0.00353982, 0.01285636,\n",
      "       0.00648598, 0.        , 0.        , 0.00427918, 0.00428829]), 'rank_test_score': array([7, 5, 7, 6, 1, 2, 7, 7, 4, 3])}):\n",
      "{'gbc__n_estimators': 1000, 'gbc__min_samples_split': 5, 'gbc__min_samples_leaf': 2, 'gbc__max_features': 'auto', 'gbc__max_depth': 40, 'gbc__learning_rate': 0.01, 'gbc__criterion': 'mse'}\n"
     ]
    }
   ],
   "source": [
    "print(f\"Best parameter (CV score={search.cv_results_}):\" )\n",
    "print(search.best_params_)"
   ]
  },
  {
   "cell_type": "code",
   "execution_count": 20,
   "id": "derived-jungle",
   "metadata": {},
   "outputs": [],
   "source": [
    "ypred = search.predict_proba(df_test.drop('class', axis=1))"
   ]
  },
  {
   "cell_type": "code",
   "execution_count": 41,
   "id": "reliable-russian",
   "metadata": {},
   "outputs": [
    {
     "name": "stdout",
     "output_type": "stream",
     "text": [
      "Precision : 0.1724137931034483\n",
      "Recall    : 0.017793594306049824\n",
      "F1 Score  : 0.03225806451612903\n",
      "Confusion :\n",
      " [[4674   24]\n",
      " [ 276    5]]\n"
     ]
    }
   ],
   "source": [
    "performance_model(df_test['class'].to_numpy(),  ypred.argmax(1))"
   ]
  },
  {
   "cell_type": "code",
   "execution_count": 61,
   "id": "clean-anthropology",
   "metadata": {},
   "outputs": [],
   "source": [
    "lr_precision, lr_recall, thre = precision_recall_curve(df_test['class'].to_numpy(), ypred[:,1])"
   ]
  },
  {
   "cell_type": "code",
   "execution_count": 53,
   "id": "processed-century",
   "metadata": {},
   "outputs": [
    {
     "name": "stdout",
     "output_type": "stream",
     "text": [
      "[0.05704425 0.05685279 0.05686434 ... 0.08623853 0.08629131 0.08634415]\n"
     ]
    }
   ],
   "source": [
    "print(lr_precision[lr_recall>=.5])"
   ]
  },
  {
   "cell_type": "code",
   "execution_count": 60,
   "id": "isolated-intersection",
   "metadata": {},
   "outputs": [
    {
     "data": {
      "text/plain": [
       "array([0.0840188 , 0.0840682 , 0.08411765, 0.08416716, 0.08421673,\n",
       "       0.08426635, 0.08431604, 0.08436578, 0.08441558, 0.08446545,\n",
       "       0.08451537, 0.08456535, 0.08461538, 0.08466548, 0.08471564,\n",
       "       0.08476586, 0.08481613, 0.08486647, 0.08491686, 0.08496732,\n",
       "       0.08442331, 0.08447353, 0.08452381, 0.08457415, 0.08462455,\n",
       "       0.08467501, 0.08472554, 0.08477612, 0.08482676, 0.08487747,\n",
       "       0.08492823, 0.08497905, 0.08502994, 0.08508089, 0.08513189,\n",
       "       0.08518296, 0.08463385, 0.08468468, 0.08473558, 0.08478653,\n",
       "       0.08483755, 0.08488862, 0.08493976, 0.08499096, 0.08504222,\n",
       "       0.08509354, 0.08514493, 0.08519637, 0.08524788, 0.08529946,\n",
       "       0.08535109, 0.08540279, 0.08545455, 0.08550637, 0.08555825,\n",
       "       0.0856102 , 0.08566221, 0.08571429, 0.08576642, 0.08581862,\n",
       "       0.08587089, 0.08592322, 0.08597561, 0.08602807, 0.08608059,\n",
       "       0.08613317, 0.08618582, 0.08623853, 0.08629131, 0.08634415])"
      ]
     },
     "execution_count": 60,
     "metadata": {},
     "output_type": "execute_result"
    }
   ],
   "source": [
    "lr_precision[(lr_recall>=.5) & (lr_recall<.51) & (lr_precision>=0.08)]"
   ]
  },
  {
   "cell_type": "code",
   "execution_count": 50,
   "id": "spoken-demographic",
   "metadata": {},
   "outputs": [
    {
     "data": {
      "text/plain": [
       "array([0.58007117, 0.58007117, 0.58007117, ..., 0.00355872, 0.00355872,\n",
       "       0.        ])"
      ]
     },
     "execution_count": 50,
     "metadata": {},
     "output_type": "execute_result"
    }
   ],
   "source": [
    "lr_recall[lr_precision>=.08]"
   ]
  },
  {
   "cell_type": "code",
   "execution_count": 66,
   "id": "broadband-reading",
   "metadata": {},
   "outputs": [
    {
     "data": {
      "image/png": "[encoded data removed]",
      "text/plain": [
       "<Figure size 432x288 with 1 Axes>"
      ]
     },
     "metadata": {
      "needs_background": "light"
     },
     "output_type": "display_data"
    }
   ],
   "source": [
    "plt.plot(lr_precision, lr_recall)\n",
    "plt.xlabel('precision')\n",
    "plt.ylabel('recall')\n",
    "plt.grid(True)\n",
    "plt.show()"
   ]
  },
  {
   "cell_type": "code",
   "execution_count": 68,
   "id": "velvet-sense",
   "metadata": {},
   "outputs": [
    {
     "data": {
      "image/png": "[encoded data removed]",
      "text/plain": [
       "<Figure size 432x288 with 1 Axes>"
      ]
     },
     "metadata": {
      "needs_background": "light"
     },
     "output_type": "display_data"
    }
   ],
   "source": [
    "pr_curve(df_test['class'], ypred[:,1])"
   ]
  }
 ],
 "metadata": {
  "kernelspec": {
   "display_name": "Python 3",
   "language": "python",
   "name": "python3"
  },
  "language_info": {
   "codemirror_mode": {
    "name": "ipython",
    "version": 3
   },
   "file_extension": ".py",
   "mimetype": "text/x-python",
   "name": "python",
   "nbconvert_exporter": "python",
   "pygments_lexer": "ipython3",
   "version": "3.8.5"
  }
 },
 "nbformat": 4,
 "nbformat_minor": 5
}
